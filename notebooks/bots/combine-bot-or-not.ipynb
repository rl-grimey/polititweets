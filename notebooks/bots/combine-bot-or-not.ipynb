{
 "cells": [
  {
   "cell_type": "markdown",
   "metadata": {},
   "source": [
    "# Bots\n",
    "\n",
    "### Combining\n",
    "\n",
    "We're combining a lot of `.json` files into one large file of *Bot or Not* API calls. The file is structured like this... \n",
    "\n",
    "```\n",
    "\"botOrNot\": [\n",
    "        {\n",
    "            \"categories\": {\n",
    "                \"content_classification\": 0.65,\n",
    "                \"friend_classification\": 0.38,\n",
    "                \"network_classification\": 0.52,\n",
    "                \"sentiment_classification\": 0.43,\n",
    "                \"temporal_classification\": 0.8278391959798995,\n",
    "                \"user_classification\": 0.63\n",
    "            },\n",
    "            \"score\": 0.56,\n",
    "            \"screen_name\": \"jCar89000\",\n",
    "            \"user_id\": \"3532804813\"\n",
    "        },\n",
    "        { ...\n",
    "```"
   ]
  },
  {
   "cell_type": "code",
   "execution_count": 1,
   "metadata": {
    "collapsed": true
   },
   "outputs": [],
   "source": [
    "# Libraries\n",
    "import glob\n",
    "import json\n",
    "\n",
    "import pandas as pd"
   ]
  },
  {
   "cell_type": "code",
   "execution_count": 2,
   "metadata": {
    "collapsed": true
   },
   "outputs": [],
   "source": [
    "# Directories\n",
    "botDir = '../../data/processed/bots/'\n",
    "userDir = '../../data/processed/users/update/'\n",
    "outputDir = botDir + 'output/'"
   ]
  },
  {
   "cell_type": "code",
   "execution_count": null,
   "metadata": {
    "collapsed": true
   },
   "outputs": [],
   "source": [
    "%ls "
   ]
  },
  {
   "cell_type": "code",
   "execution_count": 3,
   "metadata": {
    "collapsed": false
   },
   "outputs": [
    {
     "ename": "IndexError",
     "evalue": "list index out of range",
     "output_type": "error",
     "traceback": [
      "\u001b[0;31m---------------------------------------------------------------------------\u001b[0m",
      "\u001b[0;31mIndexError\u001b[0m                                Traceback (most recent call last)",
      "\u001b[0;32m<ipython-input-3-9cb0265750a4>\u001b[0m in \u001b[0;36m<module>\u001b[0;34m()\u001b[0m\n\u001b[1;32m      7\u001b[0m \u001b[0;34m\u001b[0m\u001b[0m\n\u001b[1;32m      8\u001b[0m \u001b[0;31m# Examples\u001b[0m\u001b[0;34m\u001b[0m\u001b[0;34m\u001b[0m\u001b[0m\n\u001b[0;32m----> 9\u001b[0;31m \u001b[0mworkingEx\u001b[0m \u001b[0;34m=\u001b[0m \u001b[0mprocess\u001b[0m\u001b[0;34m[\u001b[0m\u001b[0;36m1\u001b[0m\u001b[0;34m]\u001b[0m\u001b[0;34m[\u001b[0m\u001b[0;34m'botOrNot'\u001b[0m\u001b[0;34m]\u001b[0m\u001b[0;34m[\u001b[0m\u001b[0;36m0\u001b[0m\u001b[0;34m]\u001b[0m\u001b[0;34m\u001b[0m\u001b[0m\n\u001b[0m\u001b[1;32m     10\u001b[0m \u001b[0mbrokenEx\u001b[0m \u001b[0;34m=\u001b[0m \u001b[0mprocess\u001b[0m\u001b[0;34m[\u001b[0m\u001b[0;36m0\u001b[0m\u001b[0;34m]\u001b[0m\u001b[0;34m[\u001b[0m\u001b[0;34m'botOrNot'\u001b[0m\u001b[0;34m]\u001b[0m\u001b[0;34m[\u001b[0m\u001b[0;36m0\u001b[0m\u001b[0;34m]\u001b[0m\u001b[0;34m\u001b[0m\u001b[0m\n\u001b[1;32m     11\u001b[0m \u001b[0;34m\u001b[0m\u001b[0m\n",
      "\u001b[0;31mIndexError\u001b[0m: list index out of range"
     ]
    }
   ],
   "source": [
    "# Crudely combine\n",
    "process = []\n",
    "for f in glob.glob((botDir + \"*.json\")):\n",
    "    with open(f, \"rb\") as infile:\n",
    "        process.append(json.load(infile))\n",
    "        \n",
    "        \n",
    "# Examples\n",
    "workingEx = process[1]['botOrNot'][0]\n",
    "brokenEx = process[0]['botOrNot'][0]\n",
    "\n",
    "print (workingEx)\n",
    "print (brokenEx)"
   ]
  },
  {
   "cell_type": "code",
   "execution_count": 4,
   "metadata": {
    "collapsed": false
   },
   "outputs": [
    {
     "name": "stdout",
     "output_type": "stream",
     "text": [
      "Results per file:\n",
      "360\n",
      "149\n",
      "1081\n",
      "1015\n",
      "163\n",
      "216\n",
      "267\n",
      "226\n",
      "854\n",
      "553\n",
      "1087\n"
     ]
    }
   ],
   "source": [
    "print ('Results per file:')\n",
    "for f in process:\n",
    "    results = f['botOrNot']\n",
    "    count = 0\n",
    "    for i in results:\n",
    "        count += 1\n",
    "    print (count)"
   ]
  },
  {
   "cell_type": "code",
   "execution_count": 5,
   "metadata": {
    "collapsed": false
   },
   "outputs": [],
   "source": [
    "records = []\n",
    "\n",
    "for f in process:\n",
    "    results = f['botOrNot']\n",
    "    \n",
    "    for result in results:\n",
    "        try:\n",
    "            if result['result']:\n",
    "                continue\n",
    "        except:\n",
    "            pass\n",
    "        \n",
    "        try:\n",
    "            score = result['score']\n",
    "            userID = result['user_id']\n",
    "            screenName  = result['screen_name']\n",
    "            \n",
    "            cats = result['categories']\n",
    "            contentClass = cats['content_classification']\n",
    "            tempClass = cats['temporal_classification']\n",
    "            netClass = cats['network_classification']\n",
    "            friendClass = cats['friend_classification']\n",
    "            sentClass = cats['sentiment_classification']\n",
    "            userClass = cats['user_classification']\n",
    "            \n",
    "            records.append({'userID':userID, 'screenName':screenName, 'score':score,\n",
    "                    'contentClass':contentClass,\n",
    "                     'tempClass': tempClass,\n",
    "                     'netClass': netClass,\n",
    "                     'friendClass': friendClass,\n",
    "                    'sentClass': sentClass,\n",
    "                    'userClass': userClass})\n",
    "            \n",
    "            \n",
    "        except Exception as e:\n",
    "            print (e)"
   ]
  },
  {
   "cell_type": "code",
   "execution_count": 6,
   "metadata": {
    "collapsed": false
   },
   "outputs": [
    {
     "data": {
      "text/html": [
       "<div>\n",
       "<table border=\"1\" class=\"dataframe\">\n",
       "  <thead>\n",
       "    <tr style=\"text-align: right;\">\n",
       "      <th></th>\n",
       "      <th>contentClass</th>\n",
       "      <th>friendClass</th>\n",
       "      <th>netClass</th>\n",
       "      <th>score</th>\n",
       "      <th>screenName</th>\n",
       "      <th>sentClass</th>\n",
       "      <th>tempClass</th>\n",
       "      <th>userClass</th>\n",
       "      <th>userID</th>\n",
       "    </tr>\n",
       "  </thead>\n",
       "  <tbody>\n",
       "    <tr>\n",
       "      <th>0</th>\n",
       "      <td>0.65</td>\n",
       "      <td>0.380000</td>\n",
       "      <td>0.520000</td>\n",
       "      <td>0.56</td>\n",
       "      <td>jCar89000</td>\n",
       "      <td>0.43</td>\n",
       "      <td>0.827839</td>\n",
       "      <td>0.63</td>\n",
       "      <td>3532804813</td>\n",
       "    </tr>\n",
       "    <tr>\n",
       "      <th>1</th>\n",
       "      <td>0.88</td>\n",
       "      <td>0.793147</td>\n",
       "      <td>0.397822</td>\n",
       "      <td>0.57</td>\n",
       "      <td>dtrumptvfan</td>\n",
       "      <td>0.82</td>\n",
       "      <td>0.790000</td>\n",
       "      <td>0.16</td>\n",
       "      <td>3920277023</td>\n",
       "    </tr>\n",
       "    <tr>\n",
       "      <th>2</th>\n",
       "      <td>0.67</td>\n",
       "      <td>0.750000</td>\n",
       "      <td>0.888000</td>\n",
       "      <td>0.49</td>\n",
       "      <td>LrBlancoo</td>\n",
       "      <td>0.53</td>\n",
       "      <td>0.410000</td>\n",
       "      <td>0.34</td>\n",
       "      <td>717358485030244352</td>\n",
       "    </tr>\n",
       "    <tr>\n",
       "      <th>3</th>\n",
       "      <td>0.76</td>\n",
       "      <td>0.520000</td>\n",
       "      <td>0.610000</td>\n",
       "      <td>0.64</td>\n",
       "      <td>DavidAvritt</td>\n",
       "      <td>0.76</td>\n",
       "      <td>0.370000</td>\n",
       "      <td>0.53</td>\n",
       "      <td>15195038</td>\n",
       "    </tr>\n",
       "    <tr>\n",
       "      <th>4</th>\n",
       "      <td>0.56</td>\n",
       "      <td>0.580000</td>\n",
       "      <td>0.420000</td>\n",
       "      <td>0.48</td>\n",
       "      <td>CarolHello1</td>\n",
       "      <td>0.49</td>\n",
       "      <td>0.370000</td>\n",
       "      <td>0.41</td>\n",
       "      <td>525641456</td>\n",
       "    </tr>\n",
       "  </tbody>\n",
       "</table>\n",
       "</div>"
      ],
      "text/plain": [
       "   contentClass  friendClass  netClass  score   screenName  sentClass  \\\n",
       "0          0.65     0.380000  0.520000   0.56    jCar89000       0.43   \n",
       "1          0.88     0.793147  0.397822   0.57  dtrumptvfan       0.82   \n",
       "2          0.67     0.750000  0.888000   0.49    LrBlancoo       0.53   \n",
       "3          0.76     0.520000  0.610000   0.64  DavidAvritt       0.76   \n",
       "4          0.56     0.580000  0.420000   0.48  CarolHello1       0.49   \n",
       "\n",
       "   tempClass  userClass              userID  \n",
       "0   0.827839       0.63          3532804813  \n",
       "1   0.790000       0.16          3920277023  \n",
       "2   0.410000       0.34  717358485030244352  \n",
       "3   0.370000       0.53            15195038  \n",
       "4   0.370000       0.41           525641456  "
      ]
     },
     "execution_count": 6,
     "metadata": {},
     "output_type": "execute_result"
    }
   ],
   "source": [
    "bots = pd.DataFrame.from_records(records)\n",
    "bots.head()"
   ]
  },
  {
   "cell_type": "markdown",
   "metadata": {
    "collapsed": false
   },
   "source": [
    "### Users\n",
    "\n",
    "Grab the filtered users we sent out to *Bot or Not*."
   ]
  },
  {
   "cell_type": "code",
   "execution_count": 8,
   "metadata": {
    "collapsed": false
   },
   "outputs": [
    {
     "data": {
      "text/html": [
       "<div>\n",
       "<table border=\"1\" class=\"dataframe\">\n",
       "  <thead>\n",
       "    <tr style=\"text-align: right;\">\n",
       "      <th></th>\n",
       "      <th>userID</th>\n",
       "      <th>streamTweets</th>\n",
       "      <th>accountDuration</th>\n",
       "      <th>numDays</th>\n",
       "      <th>allTweets</th>\n",
       "      <th>followers</th>\n",
       "      <th>following</th>\n",
       "    </tr>\n",
       "  </thead>\n",
       "  <tbody>\n",
       "    <tr>\n",
       "      <th>0</th>\n",
       "      <td>3532804813</td>\n",
       "      <td>21298</td>\n",
       "      <td>227</td>\n",
       "      <td>32</td>\n",
       "      <td>179477</td>\n",
       "      <td>354</td>\n",
       "      <td>7</td>\n",
       "    </tr>\n",
       "    <tr>\n",
       "      <th>1</th>\n",
       "      <td>3920277023</td>\n",
       "      <td>10727</td>\n",
       "      <td>199</td>\n",
       "      <td>24</td>\n",
       "      <td>92391</td>\n",
       "      <td>5</td>\n",
       "      <td>0</td>\n",
       "    </tr>\n",
       "    <tr>\n",
       "      <th>2</th>\n",
       "      <td>717358485030244352</td>\n",
       "      <td>6541</td>\n",
       "      <td>181</td>\n",
       "      <td>17</td>\n",
       "      <td>47580</td>\n",
       "      <td>96</td>\n",
       "      <td>67</td>\n",
       "    </tr>\n",
       "    <tr>\n",
       "      <th>3</th>\n",
       "      <td>15195038</td>\n",
       "      <td>5814</td>\n",
       "      <td>3025</td>\n",
       "      <td>57</td>\n",
       "      <td>627202</td>\n",
       "      <td>2098</td>\n",
       "      <td>956</td>\n",
       "    </tr>\n",
       "    <tr>\n",
       "      <th>4</th>\n",
       "      <td>525641456</td>\n",
       "      <td>5477</td>\n",
       "      <td>1659</td>\n",
       "      <td>48</td>\n",
       "      <td>134010</td>\n",
       "      <td>3755</td>\n",
       "      <td>4121</td>\n",
       "    </tr>\n",
       "  </tbody>\n",
       "</table>\n",
       "</div>"
      ],
      "text/plain": [
       "               userID  streamTweets  accountDuration  numDays  allTweets  \\\n",
       "0          3532804813         21298              227       32     179477   \n",
       "1          3920277023         10727              199       24      92391   \n",
       "2  717358485030244352          6541              181       17      47580   \n",
       "3            15195038          5814             3025       57     627202   \n",
       "4           525641456          5477             1659       48     134010   \n",
       "\n",
       "   followers  following  \n",
       "0        354          7  \n",
       "1          5          0  \n",
       "2         96         67  \n",
       "3       2098        956  \n",
       "4       3755       4121  "
      ]
     },
     "execution_count": 8,
     "metadata": {},
     "output_type": "execute_result"
    }
   ],
   "source": [
    "users = pd.read_csv((userDir + 'filtered-users.csv'), dtype={'userID': 'object'})\n",
    "users.head()"
   ]
  },
  {
   "cell_type": "code",
   "execution_count": 12,
   "metadata": {
    "collapsed": false
   },
   "outputs": [
    {
     "data": {
      "text/html": [
       "<div>\n",
       "<table border=\"1\" class=\"dataframe\">\n",
       "  <thead>\n",
       "    <tr style=\"text-align: right;\">\n",
       "      <th></th>\n",
       "      <th>contentClass</th>\n",
       "      <th>friendClass</th>\n",
       "      <th>netClass</th>\n",
       "      <th>score</th>\n",
       "      <th>screenName</th>\n",
       "      <th>sentClass</th>\n",
       "      <th>tempClass</th>\n",
       "      <th>userClass</th>\n",
       "      <th>userID</th>\n",
       "      <th>streamTweets</th>\n",
       "      <th>accountDuration</th>\n",
       "      <th>numDays</th>\n",
       "      <th>allTweets</th>\n",
       "      <th>followers</th>\n",
       "      <th>following</th>\n",
       "      <th>bot</th>\n",
       "    </tr>\n",
       "  </thead>\n",
       "  <tbody>\n",
       "    <tr>\n",
       "      <th>0</th>\n",
       "      <td>0.65</td>\n",
       "      <td>0.380000</td>\n",
       "      <td>0.520000</td>\n",
       "      <td>0.56</td>\n",
       "      <td>jCar89000</td>\n",
       "      <td>0.43</td>\n",
       "      <td>0.827839</td>\n",
       "      <td>0.63</td>\n",
       "      <td>3532804813</td>\n",
       "      <td>21298</td>\n",
       "      <td>227</td>\n",
       "      <td>32</td>\n",
       "      <td>179477</td>\n",
       "      <td>354</td>\n",
       "      <td>7</td>\n",
       "      <td>1</td>\n",
       "    </tr>\n",
       "    <tr>\n",
       "      <th>1</th>\n",
       "      <td>0.88</td>\n",
       "      <td>0.793147</td>\n",
       "      <td>0.397822</td>\n",
       "      <td>0.57</td>\n",
       "      <td>dtrumptvfan</td>\n",
       "      <td>0.82</td>\n",
       "      <td>0.790000</td>\n",
       "      <td>0.16</td>\n",
       "      <td>3920277023</td>\n",
       "      <td>10727</td>\n",
       "      <td>199</td>\n",
       "      <td>24</td>\n",
       "      <td>92391</td>\n",
       "      <td>5</td>\n",
       "      <td>0</td>\n",
       "      <td>1</td>\n",
       "    </tr>\n",
       "    <tr>\n",
       "      <th>2</th>\n",
       "      <td>0.67</td>\n",
       "      <td>0.750000</td>\n",
       "      <td>0.888000</td>\n",
       "      <td>0.49</td>\n",
       "      <td>LrBlancoo</td>\n",
       "      <td>0.53</td>\n",
       "      <td>0.410000</td>\n",
       "      <td>0.34</td>\n",
       "      <td>717358485030244352</td>\n",
       "      <td>6541</td>\n",
       "      <td>181</td>\n",
       "      <td>17</td>\n",
       "      <td>47580</td>\n",
       "      <td>96</td>\n",
       "      <td>67</td>\n",
       "      <td>0</td>\n",
       "    </tr>\n",
       "    <tr>\n",
       "      <th>3</th>\n",
       "      <td>0.76</td>\n",
       "      <td>0.520000</td>\n",
       "      <td>0.610000</td>\n",
       "      <td>0.64</td>\n",
       "      <td>DavidAvritt</td>\n",
       "      <td>0.76</td>\n",
       "      <td>0.370000</td>\n",
       "      <td>0.53</td>\n",
       "      <td>15195038</td>\n",
       "      <td>5814</td>\n",
       "      <td>3025</td>\n",
       "      <td>57</td>\n",
       "      <td>627202</td>\n",
       "      <td>2098</td>\n",
       "      <td>956</td>\n",
       "      <td>1</td>\n",
       "    </tr>\n",
       "    <tr>\n",
       "      <th>4</th>\n",
       "      <td>0.56</td>\n",
       "      <td>0.580000</td>\n",
       "      <td>0.420000</td>\n",
       "      <td>0.48</td>\n",
       "      <td>CarolHello1</td>\n",
       "      <td>0.49</td>\n",
       "      <td>0.370000</td>\n",
       "      <td>0.41</td>\n",
       "      <td>525641456</td>\n",
       "      <td>5477</td>\n",
       "      <td>1659</td>\n",
       "      <td>48</td>\n",
       "      <td>134010</td>\n",
       "      <td>3755</td>\n",
       "      <td>4121</td>\n",
       "      <td>0</td>\n",
       "    </tr>\n",
       "  </tbody>\n",
       "</table>\n",
       "</div>"
      ],
      "text/plain": [
       "   contentClass  friendClass  netClass  score   screenName  sentClass  \\\n",
       "0          0.65     0.380000  0.520000   0.56    jCar89000       0.43   \n",
       "1          0.88     0.793147  0.397822   0.57  dtrumptvfan       0.82   \n",
       "2          0.67     0.750000  0.888000   0.49    LrBlancoo       0.53   \n",
       "3          0.76     0.520000  0.610000   0.64  DavidAvritt       0.76   \n",
       "4          0.56     0.580000  0.420000   0.48  CarolHello1       0.49   \n",
       "\n",
       "   tempClass  userClass              userID  streamTweets  accountDuration  \\\n",
       "0   0.827839       0.63          3532804813         21298              227   \n",
       "1   0.790000       0.16          3920277023         10727              199   \n",
       "2   0.410000       0.34  717358485030244352          6541              181   \n",
       "3   0.370000       0.53            15195038          5814             3025   \n",
       "4   0.370000       0.41           525641456          5477             1659   \n",
       "\n",
       "   numDays  allTweets  followers  following  bot  \n",
       "0       32     179477        354          7    1  \n",
       "1       24      92391          5          0    1  \n",
       "2       17      47580         96         67    0  \n",
       "3       57     627202       2098        956    1  \n",
       "4       48     134010       3755       4121    0  "
      ]
     },
     "execution_count": 12,
     "metadata": {},
     "output_type": "execute_result"
    }
   ],
   "source": [
    "# join the tables\n",
    "output = pd.merge(bots, users, on=['userID', 'userID'])\n",
    "# Add the bot classification from Bot or Not's overall score\n",
    "output['bot'] = output['score'].apply(lambda x: 1 if (x > 0.5) else 0)\n",
    "output.head()"
   ]
  },
  {
   "cell_type": "code",
   "execution_count": 43,
   "metadata": {
    "collapsed": true
   },
   "outputs": [],
   "source": [
    "output.to_csv((outputDir + \"merged-bots.csv\"), index=False)"
   ]
  },
  {
   "cell_type": "code",
   "execution_count": 16,
   "metadata": {
    "collapsed": false
   },
   "outputs": [],
   "source": [
    "# only the confirmed bots, with filtered columns\n",
    "output[output['bot'] == 1][['userID', 'screenName']].to_csv(\\\n",
    "                    (outputDir + \"bot-ids.csv\"), index=False)"
   ]
  },
  {
   "cell_type": "code",
   "execution_count": null,
   "metadata": {
    "collapsed": true
   },
   "outputs": [],
   "source": []
  }
 ],
 "metadata": {
  "anaconda-cloud": {},
  "kernelspec": {
   "display_name": "Python [conda env:py27]",
   "language": "python",
   "name": "conda-env-py27-py"
  },
  "language_info": {
   "codemirror_mode": {
    "name": "ipython",
    "version": 2
   },
   "file_extension": ".py",
   "mimetype": "text/x-python",
   "name": "python",
   "nbconvert_exporter": "python",
   "pygments_lexer": "ipython2",
   "version": "2.7.12"
  }
 },
 "nbformat": 4,
 "nbformat_minor": 1
}
