{
 "cells": [
  {
   "cell_type": "code",
   "execution_count": 2,
   "metadata": {
    "collapsed": false
   },
   "outputs": [],
   "source": [
    "import pandas as pd\n",
    "import numpy as np\n",
    "import json\n",
    "import glob\n",
    "%run twokenize.py"
   ]
  },
  {
   "cell_type": "code",
   "execution_count": 4,
   "metadata": {
    "collapsed": true
   },
   "outputs": [],
   "source": [
    "testDir = '../../data/external/trump-bots/'\n",
    "botDir = '../../data/external/botresults/'\n",
    "outDir = '../../data/processed/bot-tweets/'"
   ]
  },
  {
   "cell_type": "code",
   "execution_count": 5,
   "metadata": {
    "collapsed": false,
    "scrolled": true
   },
   "outputs": [
    {
     "name": "stdout",
     "output_type": "stream",
     "text": [
      "(77722, 33)\n"
     ]
    },
    {
     "data": {
      "text/html": [
       "<div>\n",
       "<table border=\"1\" class=\"dataframe\">\n",
       "  <thead>\n",
       "    <tr style=\"text-align: right;\">\n",
       "      <th></th>\n",
       "      <th>contributors</th>\n",
       "      <th>coordinates</th>\n",
       "      <th>created_at</th>\n",
       "      <th>display_text_range</th>\n",
       "      <th>entities</th>\n",
       "      <th>extended_entities</th>\n",
       "      <th>extended_tweet</th>\n",
       "      <th>favorite_count</th>\n",
       "      <th>favorited</th>\n",
       "      <th>filter_level</th>\n",
       "      <th>...</th>\n",
       "      <th>quoted_status_id</th>\n",
       "      <th>quoted_status_id_str</th>\n",
       "      <th>retweet_count</th>\n",
       "      <th>retweeted</th>\n",
       "      <th>retweeted_status</th>\n",
       "      <th>source</th>\n",
       "      <th>text</th>\n",
       "      <th>timestamp_ms</th>\n",
       "      <th>truncated</th>\n",
       "      <th>user</th>\n",
       "    </tr>\n",
       "  </thead>\n",
       "  <tbody>\n",
       "    <tr>\n",
       "      <th>0</th>\n",
       "      <td>None</td>\n",
       "      <td>None</td>\n",
       "      <td>Mon Jul 06 00:12:43 +0000 2015</td>\n",
       "      <td>NaN</td>\n",
       "      <td>{u'user_mentions': [{u'indices': [3, 17], u'sc...</td>\n",
       "      <td>{u'media': [{u'source_status_id_str': u'617821...</td>\n",
       "      <td>NaN</td>\n",
       "      <td>0</td>\n",
       "      <td>False</td>\n",
       "      <td>low</td>\n",
       "      <td>...</td>\n",
       "      <td>NaN</td>\n",
       "      <td>NaN</td>\n",
       "      <td>0</td>\n",
       "      <td>False</td>\n",
       "      <td>{u'contributors': None, u'truncated': False, u...</td>\n",
       "      <td>&lt;a href=\"http://twitter.com/download/android\" ...</td>\n",
       "      <td>RT @robinleeclark: Hillary is a murderer and a...</td>\n",
       "      <td>1436141563046</td>\n",
       "      <td>False</td>\n",
       "      <td>{u'follow_request_sent': None, u'profile_use_b...</td>\n",
       "    </tr>\n",
       "    <tr>\n",
       "      <th>1</th>\n",
       "      <td>None</td>\n",
       "      <td>None</td>\n",
       "      <td>Mon Jul 06 00:17:23 +0000 2015</td>\n",
       "      <td>NaN</td>\n",
       "      <td>{u'user_mentions': [{u'indices': [3, 15], u'sc...</td>\n",
       "      <td>NaN</td>\n",
       "      <td>NaN</td>\n",
       "      <td>0</td>\n",
       "      <td>False</td>\n",
       "      <td>low</td>\n",
       "      <td>...</td>\n",
       "      <td>NaN</td>\n",
       "      <td>NaN</td>\n",
       "      <td>0</td>\n",
       "      <td>False</td>\n",
       "      <td>{u'contributors': None, u'truncated': False, u...</td>\n",
       "      <td>&lt;a href=\"http://twitter.com/download/android\" ...</td>\n",
       "      <td>RT @PatriotMash: Clinton uses two aides and a ...</td>\n",
       "      <td>1436141843293</td>\n",
       "      <td>False</td>\n",
       "      <td>{u'follow_request_sent': None, u'profile_use_b...</td>\n",
       "    </tr>\n",
       "    <tr>\n",
       "      <th>2</th>\n",
       "      <td>None</td>\n",
       "      <td>None</td>\n",
       "      <td>Mon Jul 06 00:19:58 +0000 2015</td>\n",
       "      <td>NaN</td>\n",
       "      <td>{u'user_mentions': [{u'indices': [3, 15], u'sc...</td>\n",
       "      <td>{u'media': [{u'source_status_id_str': u'617673...</td>\n",
       "      <td>NaN</td>\n",
       "      <td>0</td>\n",
       "      <td>False</td>\n",
       "      <td>low</td>\n",
       "      <td>...</td>\n",
       "      <td>NaN</td>\n",
       "      <td>NaN</td>\n",
       "      <td>0</td>\n",
       "      <td>False</td>\n",
       "      <td>{u'contributors': None, u'truncated': False, u...</td>\n",
       "      <td>&lt;a href=\"http://twitter.com/download/android\" ...</td>\n",
       "      <td>RT @NoahWehrman: Press prepare for another day...</td>\n",
       "      <td>1436141998259</td>\n",
       "      <td>False</td>\n",
       "      <td>{u'follow_request_sent': None, u'profile_use_b...</td>\n",
       "    </tr>\n",
       "    <tr>\n",
       "      <th>3</th>\n",
       "      <td>None</td>\n",
       "      <td>None</td>\n",
       "      <td>Mon Jul 06 00:20:15 +0000 2015</td>\n",
       "      <td>NaN</td>\n",
       "      <td>{u'user_mentions': [], u'symbols': [], u'trend...</td>\n",
       "      <td>NaN</td>\n",
       "      <td>NaN</td>\n",
       "      <td>0</td>\n",
       "      <td>False</td>\n",
       "      <td>low</td>\n",
       "      <td>...</td>\n",
       "      <td>NaN</td>\n",
       "      <td>NaN</td>\n",
       "      <td>0</td>\n",
       "      <td>False</td>\n",
       "      <td>NaN</td>\n",
       "      <td>&lt;a href=\"http://ifttt.com\" rel=\"nofollow\"&gt;IFTT...</td>\n",
       "      <td>nytimes: Hillary Clinton reassures gay youth i...</td>\n",
       "      <td>1436142015542</td>\n",
       "      <td>False</td>\n",
       "      <td>{u'follow_request_sent': None, u'profile_use_b...</td>\n",
       "    </tr>\n",
       "    <tr>\n",
       "      <th>4</th>\n",
       "      <td>None</td>\n",
       "      <td>None</td>\n",
       "      <td>Mon Jul 06 00:20:17 +0000 2015</td>\n",
       "      <td>NaN</td>\n",
       "      <td>{u'user_mentions': [{u'indices': [3, 18], u'sc...</td>\n",
       "      <td>NaN</td>\n",
       "      <td>NaN</td>\n",
       "      <td>0</td>\n",
       "      <td>False</td>\n",
       "      <td>low</td>\n",
       "      <td>...</td>\n",
       "      <td>NaN</td>\n",
       "      <td>NaN</td>\n",
       "      <td>0</td>\n",
       "      <td>False</td>\n",
       "      <td>{u'contributors': None, u'truncated': False, u...</td>\n",
       "      <td>&lt;a href=\"http://twitter.com/download/android\" ...</td>\n",
       "      <td>RT @LessGovMoreFun: Truth be told:  https://t....</td>\n",
       "      <td>1436142017984</td>\n",
       "      <td>False</td>\n",
       "      <td>{u'follow_request_sent': None, u'profile_use_b...</td>\n",
       "    </tr>\n",
       "  </tbody>\n",
       "</table>\n",
       "<p>5 rows × 33 columns</p>\n",
       "</div>"
      ],
      "text/plain": [
       "  contributors coordinates                      created_at display_text_range                                           entities                                  extended_entities extended_tweet  favorite_count favorited filter_level                        ...                         quoted_status_id  quoted_status_id_str retweet_count retweeted                                   retweeted_status                                             source                                               text   timestamp_ms truncated                                               user\n",
       "0         None        None  Mon Jul 06 00:12:43 +0000 2015                NaN  {u'user_mentions': [{u'indices': [3, 17], u'sc...  {u'media': [{u'source_status_id_str': u'617821...            NaN               0     False          low                        ...                                      NaN                   NaN             0     False  {u'contributors': None, u'truncated': False, u...  <a href=\"http://twitter.com/download/android\" ...  RT @robinleeclark: Hillary is a murderer and a...  1436141563046     False  {u'follow_request_sent': None, u'profile_use_b...\n",
       "1         None        None  Mon Jul 06 00:17:23 +0000 2015                NaN  {u'user_mentions': [{u'indices': [3, 15], u'sc...                                                NaN            NaN               0     False          low                        ...                                      NaN                   NaN             0     False  {u'contributors': None, u'truncated': False, u...  <a href=\"http://twitter.com/download/android\" ...  RT @PatriotMash: Clinton uses two aides and a ...  1436141843293     False  {u'follow_request_sent': None, u'profile_use_b...\n",
       "2         None        None  Mon Jul 06 00:19:58 +0000 2015                NaN  {u'user_mentions': [{u'indices': [3, 15], u'sc...  {u'media': [{u'source_status_id_str': u'617673...            NaN               0     False          low                        ...                                      NaN                   NaN             0     False  {u'contributors': None, u'truncated': False, u...  <a href=\"http://twitter.com/download/android\" ...  RT @NoahWehrman: Press prepare for another day...  1436141998259     False  {u'follow_request_sent': None, u'profile_use_b...\n",
       "3         None        None  Mon Jul 06 00:20:15 +0000 2015                NaN  {u'user_mentions': [], u'symbols': [], u'trend...                                                NaN            NaN               0     False          low                        ...                                      NaN                   NaN             0     False                                                NaN  <a href=\"http://ifttt.com\" rel=\"nofollow\">IFTT...  nytimes: Hillary Clinton reassures gay youth i...  1436142015542     False  {u'follow_request_sent': None, u'profile_use_b...\n",
       "4         None        None  Mon Jul 06 00:20:17 +0000 2015                NaN  {u'user_mentions': [{u'indices': [3, 18], u'sc...                                                NaN            NaN               0     False          low                        ...                                      NaN                   NaN             0     False  {u'contributors': None, u'truncated': False, u...  <a href=\"http://twitter.com/download/android\" ...  RT @LessGovMoreFun: Truth be told:  https://t....  1436142017984     False  {u'follow_request_sent': None, u'profile_use_b...\n",
       "\n",
       "[5 rows x 33 columns]"
      ]
     },
     "execution_count": 5,
     "metadata": {},
     "output_type": "execute_result"
    }
   ],
   "source": [
    "# Crudely combine\n",
    "process = []\n",
    "for f in glob.glob((botDir + \"*.txt\")):\n",
    "    with open(f, \"rb\") as infile:\n",
    "        for line in infile:\n",
    "            process.append(json.loads(line))\n",
    "raw = pd.DataFrame.from_records(process)\n",
    "\n",
    "print (raw.shape)\n",
    "raw.head()"
   ]
  },
  {
   "cell_type": "code",
   "execution_count": 6,
   "metadata": {
    "collapsed": true
   },
   "outputs": [],
   "source": [
    "def tknz(text):\n",
    "    tokens = tokenizeRawTweetText(text)\n",
    "    filt = [x for x in tokens if not (x.startswith('RT') \n",
    "                                   or x.startswith('@') or x.startswith(':') \n",
    "                                   or x.startswith('https:') or x.startswith('-') \n",
    "                                     or x.startswith('.') or x.startswith(','))]\n",
    "    return filt\n",
    "\n",
    "def hsh(tokens):\n",
    "    # reads a list of tokens\n",
    "    tuped = tuple(tokens)\n",
    "    hashed = hash(tuped)\n",
    "    return hashed"
   ]
  },
  {
   "cell_type": "code",
   "execution_count": 7,
   "metadata": {
    "collapsed": false
   },
   "outputs": [
    {
     "data": {
      "text/plain": [
       "\"\\n# RT, reply, quoting, or none?\\n    try:\\n        if (tweet['retweeted_status'] == True):\\n            method = 'retweet'\\n            otherID = tweet['retweeted_status']['user']['id_str']\\n\\n        if (type(tweet['in_reply_to_user_id_str']) != np.float64):\\n            method = 'replyUser'\\n            otherID = tweet['in_reply_to_user_id_str']\\n        elif (tweet['in_reply_to_status_id_str']):\\n            method = 'replyStatus'\\n            otherID = None\\n        else:\\n            method = None\\n            otherID = None\\n\\n        return {'userID':userID, 'screenName':screenName, 'text':text, 'timestamp':timestamp,\\n                'method':method, 'otherID':otherID}\\n    except:\\n        print tweet\\n\""
      ]
     },
     "execution_count": 7,
     "metadata": {},
     "output_type": "execute_result"
    }
   ],
   "source": [
    "def extractInfo(tweet):\n",
    "    # User variables\n",
    "    userID = tweet['user']['id_str']\n",
    "    screenName = tweet['user']['screen_name']\n",
    "    # Tweet Variables\n",
    "    text = tweet['text']\n",
    "    tokens = tknz(text)\n",
    "    hashed = hsh(tokens)\n",
    "    \n",
    "    timestamp = tweet['timestamp_ms']\n",
    "    \n",
    "    return {'userID':userID, 'screenName':screenName, 'timestamp':timestamp, \\\n",
    "            'text':text, 'tokens':tokens, 'hash':hashed}\n",
    "    \n",
    "    #### below is a horrible rendition of network variables\n",
    "    \n",
    "\"\"\"\n",
    "# RT, reply, quoting, or none?\n",
    "    try:\n",
    "        if (tweet['retweeted_status'] == True):\n",
    "            method = 'retweet'\n",
    "            otherID = tweet['retweeted_status']['user']['id_str']\n",
    "\n",
    "        if (type(tweet['in_reply_to_user_id_str']) != np.float64):\n",
    "            method = 'replyUser'\n",
    "            otherID = tweet['in_reply_to_user_id_str']\n",
    "        elif (tweet['in_reply_to_status_id_str']):\n",
    "            method = 'replyStatus'\n",
    "            otherID = None\n",
    "        else:\n",
    "            method = None\n",
    "            otherID = None\n",
    "\n",
    "        return {'userID':userID, 'screenName':screenName, 'text':text, 'timestamp':timestamp,\n",
    "                'method':method, 'otherID':otherID}\n",
    "    except:\n",
    "        print tweet\n",
    "\"\"\""
   ]
  },
  {
   "cell_type": "code",
   "execution_count": 8,
   "metadata": {
    "collapsed": false
   },
   "outputs": [
    {
     "data": {
      "text/html": [
       "<div>\n",
       "<table border=\"1\" class=\"dataframe\">\n",
       "  <thead>\n",
       "    <tr style=\"text-align: right;\">\n",
       "      <th></th>\n",
       "      <th>hash</th>\n",
       "      <th>screenName</th>\n",
       "      <th>text</th>\n",
       "      <th>timestamp</th>\n",
       "      <th>tokens</th>\n",
       "      <th>userID</th>\n",
       "    </tr>\n",
       "  </thead>\n",
       "  <tbody>\n",
       "    <tr>\n",
       "      <th>0</th>\n",
       "      <td>-2184387373131684931</td>\n",
       "      <td>Scrufey21</td>\n",
       "      <td>RT @robinleeclark: Hillary is a murderer and a...</td>\n",
       "      <td>1436141563046</td>\n",
       "      <td>[Hillary, is, a, murderer, and, a, traitor, an...</td>\n",
       "      <td>490179072</td>\n",
       "    </tr>\n",
       "    <tr>\n",
       "      <th>1</th>\n",
       "      <td>1607247562242048296</td>\n",
       "      <td>Scrufey21</td>\n",
       "      <td>RT @PatriotMash: Clinton uses two aides and a ...</td>\n",
       "      <td>1436141843293</td>\n",
       "      <td>[Clinton, uses, two, aides, and, a, rope, to, ...</td>\n",
       "      <td>490179072</td>\n",
       "    </tr>\n",
       "    <tr>\n",
       "      <th>2</th>\n",
       "      <td>-187648859270779684</td>\n",
       "      <td>Scrufey21</td>\n",
       "      <td>RT @NoahWehrman: Press prepare for another day...</td>\n",
       "      <td>1436141998259</td>\n",
       "      <td>[Press, prepare, for, another, day, of, coveri...</td>\n",
       "      <td>490179072</td>\n",
       "    </tr>\n",
       "    <tr>\n",
       "      <th>3</th>\n",
       "      <td>-7462846675793459304</td>\n",
       "      <td>CyberAnonymous</td>\n",
       "      <td>nytimes: Hillary Clinton reassures gay youth i...</td>\n",
       "      <td>1436142015542</td>\n",
       "      <td>[nytimes, Hillary, Clinton, reassures, gay, yo...</td>\n",
       "      <td>128334973</td>\n",
       "    </tr>\n",
       "    <tr>\n",
       "      <th>4</th>\n",
       "      <td>-289237171859682731</td>\n",
       "      <td>Scrufey21</td>\n",
       "      <td>RT @LessGovMoreFun: Truth be told:  https://t....</td>\n",
       "      <td>1436142017984</td>\n",
       "      <td>[Truth, be, told]</td>\n",
       "      <td>490179072</td>\n",
       "    </tr>\n",
       "  </tbody>\n",
       "</table>\n",
       "</div>"
      ],
      "text/plain": [
       "                  hash      screenName                                               text      timestamp                                             tokens     userID\n",
       "0 -2184387373131684931       Scrufey21  RT @robinleeclark: Hillary is a murderer and a...  1436141563046  [Hillary, is, a, murderer, and, a, traitor, an...  490179072\n",
       "1  1607247562242048296       Scrufey21  RT @PatriotMash: Clinton uses two aides and a ...  1436141843293  [Clinton, uses, two, aides, and, a, rope, to, ...  490179072\n",
       "2  -187648859270779684       Scrufey21  RT @NoahWehrman: Press prepare for another day...  1436141998259  [Press, prepare, for, another, day, of, coveri...  490179072\n",
       "3 -7462846675793459304  CyberAnonymous  nytimes: Hillary Clinton reassures gay youth i...  1436142015542  [nytimes, Hillary, Clinton, reassures, gay, yo...  128334973\n",
       "4  -289237171859682731       Scrufey21  RT @LessGovMoreFun: Truth be told:  https://t....  1436142017984                                  [Truth, be, told]  490179072"
      ]
     },
     "execution_count": 8,
     "metadata": {},
     "output_type": "execute_result"
    }
   ],
   "source": [
    "extracted = pd.DataFrame.from_records(raw.apply(lambda x: extractInfo(x), axis=1))\n",
    "extracted.head()"
   ]
  },
  {
   "cell_type": "code",
   "execution_count": 9,
   "metadata": {
    "collapsed": false
   },
   "outputs": [
    {
     "name": "stdout",
     "output_type": "stream",
     "text": [
      "Most popular tweet hashes.\n"
     ]
    },
    {
     "data": {
      "text/plain": [
       " 717126146592199451     1423\n",
       " 5162929327475364277    1362\n",
       "-4501194672645902651     807\n",
       "-2692256532814125541     624\n",
       " 3527539                 578\n",
       " 7510515497875988663     520\n",
       "-4907917567665423769     484\n",
       " 2314862951965282667     176\n",
       " 8969368713954905093     146\n",
       "-7003498234340419358     142\n",
       "Name: hash, dtype: int64"
      ]
     },
     "execution_count": 9,
     "metadata": {},
     "output_type": "execute_result"
    }
   ],
   "source": [
    "extracted['timestamp'] = pd.to_datetime(extracted['timestamp'], unit='ms')\n",
    "\n",
    "# Get most popular \n",
    "print ('Most popular tweet hashes.')\n",
    "extracted['hash'].value_counts().head(10)"
   ]
  },
  {
   "cell_type": "code",
   "execution_count": 11,
   "metadata": {
    "collapsed": false
   },
   "outputs": [
    {
     "name": "stdout",
     "output_type": "stream",
     "text": [
      "Tweets with multiple users.\n"
     ]
    },
    {
     "data": {
      "text/html": [
       "<div>\n",
       "<table border=\"1\" class=\"dataframe\">\n",
       "  <thead>\n",
       "    <tr style=\"text-align: right;\">\n",
       "      <th></th>\n",
       "      <th>userID</th>\n",
       "    </tr>\n",
       "    <tr>\n",
       "      <th>hash</th>\n",
       "      <th></th>\n",
       "    </tr>\n",
       "  </thead>\n",
       "  <tbody>\n",
       "    <tr>\n",
       "      <th>-2928380469476387809</th>\n",
       "      <td>50</td>\n",
       "    </tr>\n",
       "    <tr>\n",
       "      <th>8969368713954905093</th>\n",
       "      <td>50</td>\n",
       "    </tr>\n",
       "    <tr>\n",
       "      <th>191154071824568122</th>\n",
       "      <td>48</td>\n",
       "    </tr>\n",
       "    <tr>\n",
       "      <th>2378718859638583145</th>\n",
       "      <td>47</td>\n",
       "    </tr>\n",
       "    <tr>\n",
       "      <th>3527539</th>\n",
       "      <td>19</td>\n",
       "    </tr>\n",
       "  </tbody>\n",
       "</table>\n",
       "</div>"
      ],
      "text/plain": [
       "                      userID\n",
       "hash                        \n",
       "-2928380469476387809      50\n",
       " 8969368713954905093      50\n",
       " 191154071824568122       48\n",
       " 2378718859638583145      47\n",
       " 3527539                  19"
      ]
     },
     "execution_count": 11,
     "metadata": {},
     "output_type": "execute_result"
    }
   ],
   "source": [
    "tweetsByUsers = extracted[['userID', 'hash']].groupby('hash')\\\n",
    "    .agg({'userID': pd.Series.nunique})\\\n",
    "    .sort_values(by='userID', ascending=False)\n",
    "    \n",
    "print ('Tweets with multiple (unique) users.')\n",
    "tweetsByUsers.head()"
   ]
  },
  {
   "cell_type": "code",
   "execution_count": 12,
   "metadata": {
    "collapsed": false
   },
   "outputs": [
    {
     "data": {
      "text/html": [
       "<div>\n",
       "<table border=\"1\" class=\"dataframe\">\n",
       "  <thead>\n",
       "    <tr style=\"text-align: right;\">\n",
       "      <th></th>\n",
       "      <th>screenName</th>\n",
       "      <th>text</th>\n",
       "      <th>tokens</th>\n",
       "    </tr>\n",
       "    <tr>\n",
       "      <th>hash</th>\n",
       "      <th></th>\n",
       "      <th></th>\n",
       "      <th></th>\n",
       "    </tr>\n",
       "  </thead>\n",
       "  <tbody>\n",
       "    <tr>\n",
       "      <th>-2184387373131684931</th>\n",
       "      <td>Scrufey21</td>\n",
       "      <td>RT @robinleeclark: Hillary is a murderer and a...</td>\n",
       "      <td>[Hillary, is, a, murderer, and, a, traitor, an...</td>\n",
       "    </tr>\n",
       "    <tr>\n",
       "      <th>1607247562242048296</th>\n",
       "      <td>Scrufey21</td>\n",
       "      <td>RT @PatriotMash: Clinton uses two aides and a ...</td>\n",
       "      <td>[Clinton, uses, two, aides, and, a, rope, to, ...</td>\n",
       "    </tr>\n",
       "    <tr>\n",
       "      <th>-187648859270779684</th>\n",
       "      <td>Scrufey21</td>\n",
       "      <td>RT @NoahWehrman: Press prepare for another day...</td>\n",
       "      <td>[Press, prepare, for, another, day, of, coveri...</td>\n",
       "    </tr>\n",
       "    <tr>\n",
       "      <th>-7462846675793459304</th>\n",
       "      <td>CyberAnonymous</td>\n",
       "      <td>nytimes: Hillary Clinton reassures gay youth i...</td>\n",
       "      <td>[nytimes, Hillary, Clinton, reassures, gay, yo...</td>\n",
       "    </tr>\n",
       "    <tr>\n",
       "      <th>-289237171859682731</th>\n",
       "      <td>Scrufey21</td>\n",
       "      <td>RT @LessGovMoreFun: Truth be told:  https://t....</td>\n",
       "      <td>[Truth, be, told]</td>\n",
       "    </tr>\n",
       "  </tbody>\n",
       "</table>\n",
       "</div>"
      ],
      "text/plain": [
       "                          screenName                                               text                                             tokens\n",
       "hash                                                                                                                                      \n",
       "-2184387373131684931       Scrufey21  RT @robinleeclark: Hillary is a murderer and a...  [Hillary, is, a, murderer, and, a, traitor, an...\n",
       " 1607247562242048296       Scrufey21  RT @PatriotMash: Clinton uses two aides and a ...  [Clinton, uses, two, aides, and, a, rope, to, ...\n",
       "-187648859270779684        Scrufey21  RT @NoahWehrman: Press prepare for another day...  [Press, prepare, for, another, day, of, coveri...\n",
       "-7462846675793459304  CyberAnonymous  nytimes: Hillary Clinton reassures gay youth i...  [nytimes, Hillary, Clinton, reassures, gay, yo...\n",
       "-289237171859682731        Scrufey21  RT @LessGovMoreFun: Truth be told:  https://t....                                  [Truth, be, told]"
      ]
     },
     "execution_count": 12,
     "metadata": {},
     "output_type": "execute_result"
    }
   ],
   "source": [
    "hashes = extracted[['screenName', 'text', 'tokens', 'hash']].set_index('hash')\n",
    "hashes.head()"
   ]
  },
  {
   "cell_type": "code",
   "execution_count": 24,
   "metadata": {
    "collapsed": false
   },
   "outputs": [],
   "source": [
    "tweets = raw[raw['retweeted'] == False]\n",
    "retweets = raw[raw['retweeted'] == True]"
   ]
  },
  {
   "cell_type": "code",
   "execution_count": 25,
   "metadata": {
    "collapsed": false
   },
   "outputs": [
    {
     "data": {
      "text/plain": [
       "0    {u'user_mentions': [{u'indices': [3, 17], u'sc...\n",
       "1    {u'user_mentions': [{u'indices': [3, 15], u'sc...\n",
       "2    {u'user_mentions': [{u'indices': [3, 15], u'sc...\n",
       "3    {u'user_mentions': [], u'symbols': [], u'trend...\n",
       "4    {u'user_mentions': [{u'indices': [3, 18], u'sc...\n",
       "Name: entities, dtype: object"
      ]
     },
     "execution_count": 25,
     "metadata": {},
     "output_type": "execute_result"
    }
   ],
   "source": [
    "raw['entities'].head()"
   ]
  },
  {
   "cell_type": "code",
   "execution_count": null,
   "metadata": {
    "collapsed": true
   },
   "outputs": [],
   "source": []
  }
 ],
 "metadata": {
  "anaconda-cloud": {},
  "kernelspec": {
   "display_name": "Python [conda env:py27]",
   "language": "python",
   "name": "conda-env-py27-py"
  },
  "language_info": {
   "codemirror_mode": {
    "name": "ipython",
    "version": 2
   },
   "file_extension": ".py",
   "mimetype": "text/x-python",
   "name": "python",
   "nbconvert_exporter": "python",
   "pygments_lexer": "ipython2",
   "version": "2.7.12"
  }
 },
 "nbformat": 4,
 "nbformat_minor": 1
}
