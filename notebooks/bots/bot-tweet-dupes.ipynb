{
 "cells": [
  {
   "cell_type": "markdown",
   "metadata": {},
   "source": [
    "# Bot Tweets\n",
    "\n",
    "(at long last)\n",
    "\n",
    "Import our libraries needed for the data handling."
   ]
  },
  {
   "cell_type": "code",
   "execution_count": 1,
   "metadata": {
    "collapsed": false
   },
   "outputs": [],
   "source": [
    "import pandas as pd\n",
    "import numpy as np\n",
    "import json\n",
    "import glob"
   ]
  },
  {
   "cell_type": "code",
   "execution_count": 2,
   "metadata": {
    "collapsed": true
   },
   "outputs": [],
   "source": [
    "#Set PANDAS to show all columns in DataFrame\n",
    "pd.set_option('display.max_columns', None)"
   ]
  },
  {
   "cell_type": "markdown",
   "metadata": {},
   "source": [
    "Libraries for stupid text encoding"
   ]
  },
  {
   "cell_type": "code",
   "execution_count": 3,
   "metadata": {
    "collapsed": true
   },
   "outputs": [],
   "source": [
    "from urllib2 import quote\n",
    "# Unicode strings\n",
    "from __future__ import unicode_literals"
   ]
  },
  {
   "cell_type": "markdown",
   "metadata": {},
   "source": [
    "Import libraries needed for visualization."
   ]
  },
  {
   "cell_type": "code",
   "execution_count": 4,
   "metadata": {
    "collapsed": false
   },
   "outputs": [
    {
     "name": "stdout",
     "output_type": "stream",
     "text": [
      "1.5.3\n"
     ]
    }
   ],
   "source": [
    "import matplotlib\n",
    "import matplotlib.pyplot as plt\n",
    "# Within notebook viewing\n",
    "%matplotlib inline\n",
    "\n",
    "print (matplotlib.__version__)"
   ]
  },
  {
   "cell_type": "code",
   "execution_count": 5,
   "metadata": {
    "collapsed": true
   },
   "outputs": [],
   "source": [
    "# Import for axes, color, etc\n",
    "from pylab import *"
   ]
  },
  {
   "cell_type": "markdown",
   "metadata": {},
   "source": [
    "Natural Language Processing"
   ]
  },
  {
   "cell_type": "code",
   "execution_count": 6,
   "metadata": {
    "collapsed": true
   },
   "outputs": [],
   "source": [
    "%run twokenize.py\n",
    "import nltk"
   ]
  },
  {
   "cell_type": "markdown",
   "metadata": {},
   "source": [
    "### Directories"
   ]
  },
  {
   "cell_type": "code",
   "execution_count": 7,
   "metadata": {
    "collapsed": true
   },
   "outputs": [],
   "source": [
    "testDir = '../../data/external/trump-bots/'\n",
    "botDir = '../../data/external/botresults/'\n",
    "outDir = '../../data/processed/bot-tweets/'"
   ]
  },
  {
   "cell_type": "markdown",
   "metadata": {},
   "source": [
    "Read in the data files by combining the extracted files."
   ]
  },
  {
   "cell_type": "code",
   "execution_count": 8,
   "metadata": {
    "collapsed": false,
    "scrolled": true
   },
   "outputs": [
    {
     "name": "stdout",
     "output_type": "stream",
     "text": [
      "(77722, 33)\n"
     ]
    }
   ],
   "source": [
    "# Crudely combine\n",
    "process = []\n",
    "for f in glob.glob((botDir + \"*.txt\")):\n",
    "    with open(f, \"rb\") as infile:\n",
    "        for line in infile:\n",
    "            process.append(json.loads(line))\n",
    "raw = pd.DataFrame.from_records(process)\n",
    "\n",
    "del process\n",
    "\n",
    "print (raw.shape)"
   ]
  },
  {
   "cell_type": "markdown",
   "metadata": {},
   "source": [
    "##### Helper functions"
   ]
  },
  {
   "cell_type": "code",
   "execution_count": 56,
   "metadata": {
    "collapsed": false
   },
   "outputs": [],
   "source": [
    "def tknz(text):\n",
    "    tokens = tokenizeRawTweetText(text)\n",
    "    filt = [x for x in tokens if not (x.startswith('RT') \n",
    "                                   or x.startswith('@') or x.startswith(':') \n",
    "                                   or x.startswith('http://') or x.startswith('https://') \n",
    "                                  or x.startswith('-') or x.startswith('and') \n",
    "                                    or x.startswith('.') or x.startswith(',') \n",
    "                                     or '')]\n",
    "    return filt\n",
    "\n",
    "def hsh(tokens):\n",
    "    # reads a list of tokens\n",
    "    tuped = tuple(tokens)\n",
    "    hashed = hash(tuped)\n",
    "    return hashed"
   ]
  },
  {
   "cell_type": "code",
   "execution_count": 44,
   "metadata": {
    "collapsed": false
   },
   "outputs": [
    {
     "data": {
      "text/plain": [
       "u\"\\n# RT, reply, quoting, or none?\\n    try:\\n        if (tweet['retweeted_status'] == True):\\n            method = 'retweet'\\n            otherID = tweet['retweeted_status']['user']['id_str']\\n\\n        if (type(tweet['in_reply_to_user_id_str']) != np.float64):\\n            method = 'replyUser'\\n            otherID = tweet['in_reply_to_user_id_str']\\n        elif (tweet['in_reply_to_status_id_str']):\\n            method = 'replyStatus'\\n            otherID = None\\n        else:\\n            method = None\\n            otherID = None\\n\\n        return {'userID':userID, 'screenName':screenName, 'text':text, 'timestamp':timestamp,\\n                'method':method, 'otherID':otherID}\\n    except:\\n        print tweet\\n\""
      ]
     },
     "execution_count": 44,
     "metadata": {},
     "output_type": "execute_result"
    }
   ],
   "source": [
    "def extractInfo(tweet):\n",
    "    # User variables\n",
    "    userID = tweet['user']['id_str']\n",
    "    screenName = tweet['user']['screen_name']\n",
    "    # Tweet Variables\n",
    "    text = tweet['text']\n",
    "    tokens = tknz(text)\n",
    "    hashed = hsh(tokens)\n",
    "    \n",
    "    timestamp = tweet['timestamp_ms']\n",
    "    \n",
    "    return {'userID':userID, 'screenName':screenName, 'timestamp':timestamp, \\\n",
    "            'text':text, 'tokens':tokens, 'hash':hashed}\n",
    "    \n",
    "    #### below is a horrible rendition of network variables\n",
    "    \n",
    "\"\"\"\n",
    "# RT, reply, quoting, or none?\n",
    "    try:\n",
    "        if (tweet['retweeted_status'] == True):\n",
    "            method = 'retweet'\n",
    "            otherID = tweet['retweeted_status']['user']['id_str']\n",
    "\n",
    "        if (type(tweet['in_reply_to_user_id_str']) != np.float64):\n",
    "            method = 'replyUser'\n",
    "            otherID = tweet['in_reply_to_user_id_str']\n",
    "        elif (tweet['in_reply_to_status_id_str']):\n",
    "            method = 'replyStatus'\n",
    "            otherID = None\n",
    "        else:\n",
    "            method = None\n",
    "            otherID = None\n",
    "\n",
    "        return {'userID':userID, 'screenName':screenName, 'text':text, 'timestamp':timestamp,\n",
    "                'method':method, 'otherID':otherID}\n",
    "    except:\n",
    "        print tweet\n",
    "\"\"\""
   ]
  },
  {
   "cell_type": "code",
   "execution_count": 45,
   "metadata": {
    "collapsed": false
   },
   "outputs": [
    {
     "data": {
      "text/html": [
       "<div>\n",
       "<table border=\"1\" class=\"dataframe\">\n",
       "  <thead>\n",
       "    <tr style=\"text-align: right;\">\n",
       "      <th></th>\n",
       "      <th>hash</th>\n",
       "      <th>screenName</th>\n",
       "      <th>text</th>\n",
       "      <th>timestamp</th>\n",
       "      <th>tokens</th>\n",
       "      <th>userID</th>\n",
       "    </tr>\n",
       "  </thead>\n",
       "  <tbody>\n",
       "    <tr>\n",
       "      <th>0</th>\n",
       "      <td>6280506488202206663</td>\n",
       "      <td>WDYL2016</td>\n",
       "      <td>Donald Trump calls for 'civil' debate – CNN ht...</td>\n",
       "      <td>2015-08-06 00:10:34.775</td>\n",
       "      <td>[Donald, Trump, calls, for, ', civil, ', debat...</td>\n",
       "      <td>2414927882</td>\n",
       "    </tr>\n",
       "    <tr>\n",
       "      <th>1</th>\n",
       "      <td>-239533655759035841</td>\n",
       "      <td>WDYL2016</td>\n",
       "      <td>Dump Donald Trump and let Rick Perry debate – ...</td>\n",
       "      <td>2015-08-06 00:10:44.817</td>\n",
       "      <td>[Dump, Donald, Trump, and, let, Rick, Perry, d...</td>\n",
       "      <td>2414927882</td>\n",
       "    </tr>\n",
       "    <tr>\n",
       "      <th>2</th>\n",
       "      <td>-2242831579107199855</td>\n",
       "      <td>azblonde2015</td>\n",
       "      <td>Contribute Today! :: Donald J. Trump for Presi...</td>\n",
       "      <td>2015-08-06 00:15:09.547</td>\n",
       "      <td>[Contribute, Today, !, Donald, J, Trump, for, ...</td>\n",
       "      <td>3271255423</td>\n",
       "    </tr>\n",
       "    <tr>\n",
       "      <th>3</th>\n",
       "      <td>-5395197686682151618</td>\n",
       "      <td>iVoteForBest</td>\n",
       "      <td>#ModiMinistry As Republicans take the debate s...</td>\n",
       "      <td>2015-08-06 00:15:45.359</td>\n",
       "      <td>[#ModiMinistry, As, Republicans, take, the, de...</td>\n",
       "      <td>2425268995</td>\n",
       "    </tr>\n",
       "    <tr>\n",
       "      <th>4</th>\n",
       "      <td>8035591063244529552</td>\n",
       "      <td>TBackers</td>\n",
       "      <td>As Republicans take the debate stage, all eyes...</td>\n",
       "      <td>2015-08-06 00:16:52.489</td>\n",
       "      <td>[As, Republicans, take, the, debate, stage, al...</td>\n",
       "      <td>3044768595</td>\n",
       "    </tr>\n",
       "  </tbody>\n",
       "</table>\n",
       "</div>"
      ],
      "text/plain": [
       "                  hash    screenName  \\\n",
       "0  6280506488202206663      WDYL2016   \n",
       "1  -239533655759035841      WDYL2016   \n",
       "2 -2242831579107199855  azblonde2015   \n",
       "3 -5395197686682151618  iVoteForBest   \n",
       "4  8035591063244529552      TBackers   \n",
       "\n",
       "                                                text               timestamp  \\\n",
       "0  Donald Trump calls for 'civil' debate – CNN ht... 2015-08-06 00:10:34.775   \n",
       "1  Dump Donald Trump and let Rick Perry debate – ... 2015-08-06 00:10:44.817   \n",
       "2  Contribute Today! :: Donald J. Trump for Presi... 2015-08-06 00:15:09.547   \n",
       "3  #ModiMinistry As Republicans take the debate s... 2015-08-06 00:15:45.359   \n",
       "4  As Republicans take the debate stage, all eyes... 2015-08-06 00:16:52.489   \n",
       "\n",
       "                                              tokens      userID  \n",
       "0  [Donald, Trump, calls, for, ', civil, ', debat...  2414927882  \n",
       "1  [Dump, Donald, Trump, and, let, Rick, Perry, d...  2414927882  \n",
       "2  [Contribute, Today, !, Donald, J, Trump, for, ...  3271255423  \n",
       "3  [#ModiMinistry, As, Republicans, take, the, de...  2425268995  \n",
       "4  [As, Republicans, take, the, debate, stage, al...  3044768595  "
      ]
     },
     "execution_count": 45,
     "metadata": {},
     "output_type": "execute_result"
    }
   ],
   "source": [
    "extracted = pd.DataFrame.from_records(raw.apply(lambda x: extractInfo(x), axis=1))\n",
    "extracted['timestamp'] = pd.to_datetime(extracted['timestamp'], unit='ms')\n",
    "\n",
    "extracted.head()"
   ]
  },
  {
   "cell_type": "code",
   "execution_count": 46,
   "metadata": {
    "collapsed": false
   },
   "outputs": [
    {
     "data": {
      "text/html": [
       "<div>\n",
       "<table border=\"1\" class=\"dataframe\">\n",
       "  <thead>\n",
       "    <tr style=\"text-align: right;\">\n",
       "      <th></th>\n",
       "      <th>screenName</th>\n",
       "      <th>text</th>\n",
       "      <th>tokens</th>\n",
       "    </tr>\n",
       "    <tr>\n",
       "      <th>hash</th>\n",
       "      <th></th>\n",
       "      <th></th>\n",
       "      <th></th>\n",
       "    </tr>\n",
       "  </thead>\n",
       "  <tbody>\n",
       "    <tr>\n",
       "      <th>6280506488202206663</th>\n",
       "      <td>WDYL2016</td>\n",
       "      <td>Donald Trump calls for 'civil' debate – CNN ht...</td>\n",
       "      <td>[Donald, Trump, calls, for, ', civil, ', debat...</td>\n",
       "    </tr>\n",
       "    <tr>\n",
       "      <th>-239533655759035841</th>\n",
       "      <td>WDYL2016</td>\n",
       "      <td>Dump Donald Trump and let Rick Perry debate – ...</td>\n",
       "      <td>[Dump, Donald, Trump, and, let, Rick, Perry, d...</td>\n",
       "    </tr>\n",
       "    <tr>\n",
       "      <th>-2242831579107199855</th>\n",
       "      <td>azblonde2015</td>\n",
       "      <td>Contribute Today! :: Donald J. Trump for Presi...</td>\n",
       "      <td>[Contribute, Today, !, Donald, J, Trump, for, ...</td>\n",
       "    </tr>\n",
       "    <tr>\n",
       "      <th>-5395197686682151618</th>\n",
       "      <td>iVoteForBest</td>\n",
       "      <td>#ModiMinistry As Republicans take the debate s...</td>\n",
       "      <td>[#ModiMinistry, As, Republicans, take, the, de...</td>\n",
       "    </tr>\n",
       "    <tr>\n",
       "      <th>8035591063244529552</th>\n",
       "      <td>TBackers</td>\n",
       "      <td>As Republicans take the debate stage, all eyes...</td>\n",
       "      <td>[As, Republicans, take, the, debate, stage, al...</td>\n",
       "    </tr>\n",
       "  </tbody>\n",
       "</table>\n",
       "</div>"
      ],
      "text/plain": [
       "                        screenName  \\\n",
       "hash                                 \n",
       " 6280506488202206663      WDYL2016   \n",
       "-239533655759035841       WDYL2016   \n",
       "-2242831579107199855  azblonde2015   \n",
       "-5395197686682151618  iVoteForBest   \n",
       " 8035591063244529552      TBackers   \n",
       "\n",
       "                                                                   text  \\\n",
       "hash                                                                      \n",
       " 6280506488202206663  Donald Trump calls for 'civil' debate – CNN ht...   \n",
       "-239533655759035841   Dump Donald Trump and let Rick Perry debate – ...   \n",
       "-2242831579107199855  Contribute Today! :: Donald J. Trump for Presi...   \n",
       "-5395197686682151618  #ModiMinistry As Republicans take the debate s...   \n",
       " 8035591063244529552  As Republicans take the debate stage, all eyes...   \n",
       "\n",
       "                                                                 tokens  \n",
       "hash                                                                     \n",
       " 6280506488202206663  [Donald, Trump, calls, for, ', civil, ', debat...  \n",
       "-239533655759035841   [Dump, Donald, Trump, and, let, Rick, Perry, d...  \n",
       "-2242831579107199855  [Contribute, Today, !, Donald, J, Trump, for, ...  \n",
       "-5395197686682151618  [#ModiMinistry, As, Republicans, take, the, de...  \n",
       " 8035591063244529552  [As, Republicans, take, the, debate, stage, al...  "
      ]
     },
     "execution_count": 46,
     "metadata": {},
     "output_type": "execute_result"
    }
   ],
   "source": [
    "hashes = extracted[['screenName', 'text', 'tokens', 'hash']].set_index('hash')\n",
    "hashes.head()"
   ]
  },
  {
   "cell_type": "code",
   "execution_count": 72,
   "metadata": {
    "collapsed": false
   },
   "outputs": [
    {
     "name": "stdout",
     "output_type": "stream",
     "text": [
      "Most popular tweet hashes.\n"
     ]
    },
    {
     "data": {
      "text/plain": [
       " 717126146592199451     1574\n",
       " 5162929327475364277    1362\n",
       "-4501194672645902651     807\n",
       "-2692256532814125541     624\n",
       " 3527539                 609\n",
       " 7510515497875988663     520\n",
       "-4907917567665423769     484\n",
       " 2314862951965282667     176\n",
       " 8969368713954905093     146\n",
       "-7003498234340419358     142\n",
       "Name: hash, dtype: int64"
      ]
     },
     "execution_count": 72,
     "metadata": {},
     "output_type": "execute_result"
    }
   ],
   "source": [
    "# Get most popular \n",
    "print ('Most popular tweet hashes.')\n",
    "\n",
    "popularTweets = extracted['hash'].value_counts()\n",
    "#popularTweets = popularTweets.reset_index()\n",
    "popularTweets.columns = ['frequency']\n",
    "\n",
    "popularTweets.head(10)"
   ]
  },
  {
   "cell_type": "code",
   "execution_count": 48,
   "metadata": {
    "collapsed": false
   },
   "outputs": [
    {
     "name": "stdout",
     "output_type": "stream",
     "text": [
      "Tweets with multiple (unique) users.\n"
     ]
    },
    {
     "data": {
      "text/html": [
       "<div>\n",
       "<table border=\"1\" class=\"dataframe\">\n",
       "  <thead>\n",
       "    <tr style=\"text-align: right;\">\n",
       "      <th></th>\n",
       "      <th>userID</th>\n",
       "    </tr>\n",
       "    <tr>\n",
       "      <th>hash</th>\n",
       "      <th></th>\n",
       "    </tr>\n",
       "  </thead>\n",
       "  <tbody>\n",
       "    <tr>\n",
       "      <th>-2928380469476387809</th>\n",
       "      <td>50</td>\n",
       "    </tr>\n",
       "    <tr>\n",
       "      <th>8969368713954905093</th>\n",
       "      <td>50</td>\n",
       "    </tr>\n",
       "    <tr>\n",
       "      <th>191154071824568122</th>\n",
       "      <td>48</td>\n",
       "    </tr>\n",
       "    <tr>\n",
       "      <th>2378718859638583145</th>\n",
       "      <td>47</td>\n",
       "    </tr>\n",
       "    <tr>\n",
       "      <th>-2296336973128567635</th>\n",
       "      <td>19</td>\n",
       "    </tr>\n",
       "  </tbody>\n",
       "</table>\n",
       "</div>"
      ],
      "text/plain": [
       "                      userID\n",
       "hash                        \n",
       "-2928380469476387809      50\n",
       " 8969368713954905093      50\n",
       " 191154071824568122       48\n",
       " 2378718859638583145      47\n",
       "-2296336973128567635      19"
      ]
     },
     "execution_count": 48,
     "metadata": {},
     "output_type": "execute_result"
    }
   ],
   "source": [
    "tweetsByUsers = extracted[['userID', 'hash', 'text']].groupby('hash')\\\n",
    "    .agg({'userID': pd.Series.nunique})\\\n",
    "    .sort_values(by='userID', ascending=False)\n",
    "    \n",
    "print ('Tweets with multiple (unique) users.')\n",
    "tweetsByUsers.head()"
   ]
  },
  {
   "cell_type": "code",
   "execution_count": 68,
   "metadata": {
    "collapsed": false
   },
   "outputs": [],
   "source": [
    "tweets = raw[raw['retweeted'] == False]\n",
    "retweets = raw[raw['retweeted'] == True]"
   ]
  },
  {
   "cell_type": "code",
   "execution_count": null,
   "metadata": {
    "collapsed": true
   },
   "outputs": [],
   "source": []
  }
 ],
 "metadata": {
  "anaconda-cloud": {},
  "kernelspec": {
   "display_name": "Python 2",
   "language": "python",
   "name": "python2"
  },
  "language_info": {
   "codemirror_mode": {
    "name": "ipython",
    "version": 2
   },
   "file_extension": ".py",
   "mimetype": "text/x-python",
   "name": "python",
   "nbconvert_exporter": "python",
   "pygments_lexer": "ipython2",
   "version": "2.7.12"
  }
 },
 "nbformat": 4,
 "nbformat_minor": 1
}
