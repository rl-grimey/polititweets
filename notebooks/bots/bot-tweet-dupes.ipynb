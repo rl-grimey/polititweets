{
 "cells": [
  {
   "cell_type": "markdown",
   "metadata": {},
   "source": [
    "# Bot Tweets\n",
    "\n",
    "(at long last)\n",
    "\n",
    "Import our libraries needed for the data handling."
   ]
  },
  {
   "cell_type": "code",
   "execution_count": 3,
   "metadata": {
    "collapsed": false
   },
   "outputs": [],
   "source": [
    "import pandas as pd\n",
    "import numpy as np\n",
    "import json\n",
    "import glob"
   ]
  },
  {
   "cell_type": "code",
   "execution_count": 4,
   "metadata": {
    "collapsed": true
   },
   "outputs": [],
   "source": [
    "#Set PANDAS to show all columns in DataFrame\n",
    "pd.set_option('display.max_columns', None)\n",
    "# and widen the output\n",
    "# pd.set_option('display.width', 1200)"
   ]
  },
  {
   "cell_type": "markdown",
   "metadata": {},
   "source": [
    "Libraries for stupid text encoding"
   ]
  },
  {
   "cell_type": "code",
   "execution_count": 5,
   "metadata": {
    "collapsed": true
   },
   "outputs": [],
   "source": [
    "from urllib2 import quote\n",
    "# Unicode strings\n",
    "from __future__ import unicode_literals"
   ]
  },
  {
   "cell_type": "markdown",
   "metadata": {},
   "source": [
    "Import libraries needed for visualization."
   ]
  },
  {
   "cell_type": "code",
   "execution_count": 6,
   "metadata": {
    "collapsed": false
   },
   "outputs": [
    {
     "name": "stdout",
     "output_type": "stream",
     "text": [
      "1.5.3\n"
     ]
    }
   ],
   "source": [
    "import matplotlib\n",
    "import matplotlib.pyplot as plt\n",
    "# Within notebook viewing\n",
    "%matplotlib inline\n",
    "\n",
    "print (matplotlib.__version__)"
   ]
  },
  {
   "cell_type": "code",
   "execution_count": 7,
   "metadata": {
    "collapsed": true
   },
   "outputs": [],
   "source": [
    "# Import for axes, color, etc\n",
    "from pylab import *"
   ]
  },
  {
   "cell_type": "markdown",
   "metadata": {},
   "source": [
    "Natural Language Processing"
   ]
  },
  {
   "cell_type": "code",
   "execution_count": 8,
   "metadata": {
    "collapsed": true
   },
   "outputs": [],
   "source": [
    "%run twokenize.py\n",
    "import nltk"
   ]
  },
  {
   "cell_type": "markdown",
   "metadata": {},
   "source": [
    "### Directories"
   ]
  },
  {
   "cell_type": "code",
   "execution_count": 9,
   "metadata": {
    "collapsed": true
   },
   "outputs": [],
   "source": [
    "testDir = '../../data/external/trump-bots/'\n",
    "botDir = '../../data/external/botresults/'\n",
    "outDir = '../../data/processed/bot-tweets/'"
   ]
  },
  {
   "cell_type": "markdown",
   "metadata": {},
   "source": [
    "Read in the data files by combining the extracted files."
   ]
  },
  {
   "cell_type": "code",
   "execution_count": 10,
   "metadata": {
    "collapsed": false,
    "scrolled": true
   },
   "outputs": [
    {
     "name": "stdout",
     "output_type": "stream",
     "text": [
      "(77722, 33)\n"
     ]
    }
   ],
   "source": [
    "# Crudely combine\n",
    "process = []\n",
    "for f in glob.glob((botDir + \"*.txt\")):\n",
    "    with open(f, \"rb\") as infile:\n",
    "        for line in infile:\n",
    "            process.append(json.loads(line))\n",
    "raw = pd.DataFrame.from_records(process)\n",
    "\n",
    "del process\n",
    "\n",
    "print (raw.shape)"
   ]
  },
  {
   "cell_type": "markdown",
   "metadata": {},
   "source": [
    "##### Helper functions"
   ]
  },
  {
   "cell_type": "code",
   "execution_count": 11,
   "metadata": {
    "collapsed": false
   },
   "outputs": [],
   "source": [
    "def tknz(text):\n",
    "    tokens = tokenizeRawTweetText(text)\n",
    "    filt = [x for x in tokens if not (x.startswith('RT') \n",
    "                                   or x.startswith('@') or x.startswith(':') \n",
    "                                   or x.startswith('http://') or x.startswith('https://') \n",
    "                                  or x.startswith('-') or x.startswith('and') \n",
    "                                    or x.startswith('.') or x.startswith(',') \n",
    "                                     or x.startswith(\"'\") or x == ('' or '\"'))]\n",
    "    return filt\n",
    "\n",
    "def hsh(tokens):\n",
    "    # reads a list of tokens\n",
    "    # tuped = tuple(tokens)\n",
    "    tuped = ', '.join(tokens)\n",
    "    hashed = hash(tuped)\n",
    "    return hashed"
   ]
  },
  {
   "cell_type": "code",
   "execution_count": 12,
   "metadata": {
    "collapsed": false
   },
   "outputs": [
    {
     "data": {
      "text/plain": [
       "u\"\\n# RT, reply, quoting, or none?\\n    try:\\n        if (tweet['retweeted_status'] == True):\\n            method = 'retweet'\\n            otherID = tweet['retweeted_status']['user']['id_str']\\n\\n        if (type(tweet['in_reply_to_user_id_str']) != np.float64):\\n            method = 'replyUser'\\n            otherID = tweet['in_reply_to_user_id_str']\\n        elif (tweet['in_reply_to_status_id_str']):\\n            method = 'replyStatus'\\n            otherID = None\\n        else:\\n            method = None\\n            otherID = None\\n\\n        return {'userID':userID, 'screenName':screenName, 'text':text, 'timestamp':timestamp,\\n                'method':method, 'otherID':otherID}\\n    except:\\n        print tweet\\n\""
      ]
     },
     "execution_count": 12,
     "metadata": {},
     "output_type": "execute_result"
    }
   ],
   "source": [
    "def extractInfo(tweet):\n",
    "    # User variables\n",
    "    userID = tweet['user']['id_str']\n",
    "    screenName = tweet['user']['screen_name']\n",
    "    # Tweet Variables\n",
    "    text = tweet['text']\n",
    "    tokens = tknz(text)\n",
    "    hashed = hsh(tokens)\n",
    "    retweet = 1 if (tweet['retweet'] == True) else 0\n",
    "    \n",
    "    timestamp = tweet['timestamp_ms']\n",
    "    \n",
    "    return {'userID':userID, 'screenName':screenName, 'timestamp':timestamp, \\\n",
    "            'text':text, 'tokens':tokens, 'hash':hashed, 'retweet':retweet}\n",
    "    \n",
    "    #### below is a horrible rendition of network variables\n",
    "    \n",
    "\"\"\"\n",
    "# RT, reply, quoting, or none?\n",
    "    try:\n",
    "        if (tweet['retweeted_status'] == True):\n",
    "            method = 'retweet'\n",
    "            otherID = tweet['retweeted_status']['user']['id_str']\n",
    "\n",
    "        if (type(tweet['in_reply_to_user_id_str']) != np.float64):\n",
    "            method = 'replyUser'\n",
    "            otherID = tweet['in_reply_to_user_id_str']\n",
    "        elif (tweet['in_reply_to_status_id_str']):\n",
    "            method = 'replyStatus'\n",
    "            otherID = None\n",
    "        else:\n",
    "            method = None\n",
    "            otherID = None\n",
    "\n",
    "        return {'userID':userID, 'screenName':screenName, 'text':text, 'timestamp':timestamp,\n",
    "                'method':method, 'otherID':otherID}\n",
    "    except:\n",
    "        print tweet\n",
    "\"\"\""
   ]
  },
  {
   "cell_type": "code",
   "execution_count": 13,
   "metadata": {
    "collapsed": false
   },
   "outputs": [
    {
     "data": {
      "text/html": [
       "<div>\n",
       "<table border=\"1\" class=\"dataframe\">\n",
       "  <thead>\n",
       "    <tr style=\"text-align: right;\">\n",
       "      <th></th>\n",
       "      <th>hash</th>\n",
       "      <th>screenName</th>\n",
       "      <th>text</th>\n",
       "      <th>timestamp</th>\n",
       "      <th>tokens</th>\n",
       "      <th>userID</th>\n",
       "      <th>token_str</th>\n",
       "    </tr>\n",
       "  </thead>\n",
       "  <tbody>\n",
       "    <tr>\n",
       "      <th>0</th>\n",
       "      <td>8401775961062800512</td>\n",
       "      <td>Scrufey21</td>\n",
       "      <td>RT @robinleeclark: Hillary is a murderer and a...</td>\n",
       "      <td>2015-07-06 00:12:43.046</td>\n",
       "      <td>[Hillary, is, a, murderer, a, traitor, that's,...</td>\n",
       "      <td>490179072</td>\n",
       "      <td>Hillary, is, a, murderer, a, traitor, that's, ...</td>\n",
       "    </tr>\n",
       "    <tr>\n",
       "      <th>1</th>\n",
       "      <td>-7017692310915600254</td>\n",
       "      <td>Scrufey21</td>\n",
       "      <td>RT @PatriotMash: Clinton uses two aides and a ...</td>\n",
       "      <td>2015-07-06 00:17:23.293</td>\n",
       "      <td>[Clinton, uses, two, aides, a, rope, to, lasso...</td>\n",
       "      <td>490179072</td>\n",
       "      <td>Clinton, uses, two, aides, a, rope, to, lasso,...</td>\n",
       "    </tr>\n",
       "    <tr>\n",
       "      <th>2</th>\n",
       "      <td>4819910249842125834</td>\n",
       "      <td>Scrufey21</td>\n",
       "      <td>RT @NoahWehrman: Press prepare for another day...</td>\n",
       "      <td>2015-07-06 00:19:58.259</td>\n",
       "      <td>[Press, prepare, for, another, day, of, coveri...</td>\n",
       "      <td>490179072</td>\n",
       "      <td>Press, prepare, for, another, day, of, coverin...</td>\n",
       "    </tr>\n",
       "    <tr>\n",
       "      <th>3</th>\n",
       "      <td>8041086589735528761</td>\n",
       "      <td>CyberAnonymous</td>\n",
       "      <td>nytimes: Hillary Clinton reassures gay youth i...</td>\n",
       "      <td>2015-07-06 00:20:15.542</td>\n",
       "      <td>[nytimes, Hillary, Clinton, reassures, gay, yo...</td>\n",
       "      <td>128334973</td>\n",
       "      <td>nytimes, Hillary, Clinton, reassures, gay, you...</td>\n",
       "    </tr>\n",
       "    <tr>\n",
       "      <th>4</th>\n",
       "      <td>-4371809372265221000</td>\n",
       "      <td>Scrufey21</td>\n",
       "      <td>RT @LessGovMoreFun: Truth be told:  https://t....</td>\n",
       "      <td>2015-07-06 00:20:17.984</td>\n",
       "      <td>[Truth, be, told]</td>\n",
       "      <td>490179072</td>\n",
       "      <td>Truth, be, told</td>\n",
       "    </tr>\n",
       "  </tbody>\n",
       "</table>\n",
       "</div>"
      ],
      "text/plain": [
       "                  hash      screenName                                               text               timestamp                                             tokens     userID                                          token_str\n",
       "0  8401775961062800512       Scrufey21  RT @robinleeclark: Hillary is a murderer and a... 2015-07-06 00:12:43.046  [Hillary, is, a, murderer, a, traitor, that's,...  490179072  Hillary, is, a, murderer, a, traitor, that's, ...\n",
       "1 -7017692310915600254       Scrufey21  RT @PatriotMash: Clinton uses two aides and a ... 2015-07-06 00:17:23.293  [Clinton, uses, two, aides, a, rope, to, lasso...  490179072  Clinton, uses, two, aides, a, rope, to, lasso,...\n",
       "2  4819910249842125834       Scrufey21  RT @NoahWehrman: Press prepare for another day... 2015-07-06 00:19:58.259  [Press, prepare, for, another, day, of, coveri...  490179072  Press, prepare, for, another, day, of, coverin...\n",
       "3  8041086589735528761  CyberAnonymous  nytimes: Hillary Clinton reassures gay youth i... 2015-07-06 00:20:15.542  [nytimes, Hillary, Clinton, reassures, gay, yo...  128334973  nytimes, Hillary, Clinton, reassures, gay, you...\n",
       "4 -4371809372265221000       Scrufey21  RT @LessGovMoreFun: Truth be told:  https://t.... 2015-07-06 00:20:17.984                                  [Truth, be, told]  490179072                                    Truth, be, told"
      ]
     },
     "execution_count": 13,
     "metadata": {},
     "output_type": "execute_result"
    }
   ],
   "source": [
    "extracted = pd.DataFrame.from_records(raw.apply(lambda x: extractInfo(x), axis=1))\n",
    "extracted['timestamp'] = pd.to_datetime(extracted['timestamp'], unit='ms')\n",
    "extracted['token_str'] = extracted['tokens'].apply(lambda x: ', '.join(x))\n",
    "\n",
    "extracted.head()"
   ]
  },
  {
   "cell_type": "code",
   "execution_count": 14,
   "metadata": {
    "collapsed": false
   },
   "outputs": [
    {
     "data": {
      "text/html": [
       "<div>\n",
       "<table border=\"1\" class=\"dataframe\">\n",
       "  <thead>\n",
       "    <tr style=\"text-align: right;\">\n",
       "      <th></th>\n",
       "      <th>screenName</th>\n",
       "      <th>text</th>\n",
       "      <th>tokens</th>\n",
       "    </tr>\n",
       "    <tr>\n",
       "      <th>hash</th>\n",
       "      <th></th>\n",
       "      <th></th>\n",
       "      <th></th>\n",
       "    </tr>\n",
       "  </thead>\n",
       "  <tbody>\n",
       "    <tr>\n",
       "      <th>8401775961062800512</th>\n",
       "      <td>Scrufey21</td>\n",
       "      <td>RT @robinleeclark: Hillary is a murderer and a...</td>\n",
       "      <td>[Hillary, is, a, murderer, a, traitor, that's,...</td>\n",
       "    </tr>\n",
       "    <tr>\n",
       "      <th>-7017692310915600254</th>\n",
       "      <td>Scrufey21</td>\n",
       "      <td>RT @PatriotMash: Clinton uses two aides and a ...</td>\n",
       "      <td>[Clinton, uses, two, aides, a, rope, to, lasso...</td>\n",
       "    </tr>\n",
       "    <tr>\n",
       "      <th>4819910249842125834</th>\n",
       "      <td>Scrufey21</td>\n",
       "      <td>RT @NoahWehrman: Press prepare for another day...</td>\n",
       "      <td>[Press, prepare, for, another, day, of, coveri...</td>\n",
       "    </tr>\n",
       "    <tr>\n",
       "      <th>8041086589735528761</th>\n",
       "      <td>CyberAnonymous</td>\n",
       "      <td>nytimes: Hillary Clinton reassures gay youth i...</td>\n",
       "      <td>[nytimes, Hillary, Clinton, reassures, gay, yo...</td>\n",
       "    </tr>\n",
       "    <tr>\n",
       "      <th>-4371809372265221000</th>\n",
       "      <td>Scrufey21</td>\n",
       "      <td>RT @LessGovMoreFun: Truth be told:  https://t....</td>\n",
       "      <td>[Truth, be, told]</td>\n",
       "    </tr>\n",
       "  </tbody>\n",
       "</table>\n",
       "</div>"
      ],
      "text/plain": [
       "                          screenName                                               text                                             tokens\n",
       "hash                                                                                                                                      \n",
       " 8401775961062800512       Scrufey21  RT @robinleeclark: Hillary is a murderer and a...  [Hillary, is, a, murderer, a, traitor, that's,...\n",
       "-7017692310915600254       Scrufey21  RT @PatriotMash: Clinton uses two aides and a ...  [Clinton, uses, two, aides, a, rope, to, lasso...\n",
       " 4819910249842125834       Scrufey21  RT @NoahWehrman: Press prepare for another day...  [Press, prepare, for, another, day, of, coveri...\n",
       " 8041086589735528761  CyberAnonymous  nytimes: Hillary Clinton reassures gay youth i...  [nytimes, Hillary, Clinton, reassures, gay, yo...\n",
       "-4371809372265221000       Scrufey21  RT @LessGovMoreFun: Truth be told:  https://t....                                  [Truth, be, told]"
      ]
     },
     "execution_count": 14,
     "metadata": {},
     "output_type": "execute_result"
    }
   ],
   "source": [
    "hashes = extracted[['screenName', 'text', 'tokens', 'hash']].set_index('hash')\n",
    "hashes.head()"
   ]
  },
  {
   "cell_type": "code",
   "execution_count": 22,
   "metadata": {
    "collapsed": false
   },
   "outputs": [
    {
     "name": "stdout",
     "output_type": "stream",
     "text": [
      "Most popular tweet hashes.\n"
     ]
    },
    {
     "data": {
      "text/plain": [
       "-535364539560055252     1574\n",
       "-1290198111922655402    1362\n",
       " 1650226427655343970     807\n",
       "-5630792624845697664     624\n",
       " 0                       609\n",
       "-4102906781732687656     520\n",
       " 5602520607808939820     484\n",
       " 3167448423410501280     176\n",
       " 8100076757054270788     146\n",
       "-7094954994022569809     142\n",
       "Name: hash, dtype: int64"
      ]
     },
     "execution_count": 22,
     "metadata": {},
     "output_type": "execute_result"
    }
   ],
   "source": [
    "# Get most popular \n",
    "print ('Most popular tweet hashes.')\n",
    "\n",
    "popularTweets = extracted['hash'].value_counts()\n",
    "popularTweets.columns = ['frequency']\n",
    "\n",
    "popularTweets.head(10)"
   ]
  },
  {
   "cell_type": "code",
   "execution_count": 46,
   "metadata": {
    "collapsed": false
   },
   "outputs": [
    {
     "data": {
      "text/plain": [
       "<matplotlib.axes._subplots.AxesSubplot at 0x7f5b98482b50>"
      ]
     },
     "execution_count": 46,
     "metadata": {},
     "output_type": "execute_result"
    },
    {
     "data": {
      "image/png": "[encoded data removed]",
      "text/plain": [
       "<matplotlib.figure.Figure at 0x7f5b9814b710>"
      ]
     },
     "metadata": {},
     "output_type": "display_data"
    }
   ],
   "source": [
    "#popularTweets[popularTweets > 1].head(500).plot(kind='bar', xlim=[0, 500], alpha=0.5)\n",
    "popularTweets[popularTweets > 1].head(500).plot(kind='kde', x=[1,])"
   ]
  },
  {
   "cell_type": "code",
   "execution_count": 47,
   "metadata": {
    "collapsed": false
   },
   "outputs": [
    {
     "name": "stdout",
     "output_type": "stream",
     "text": [
      "Tweets with multiple (unique) users.\n"
     ]
    },
    {
     "data": {
      "text/html": [
       "<div>\n",
       "<table border=\"1\" class=\"dataframe\">\n",
       "  <thead>\n",
       "    <tr style=\"text-align: right;\">\n",
       "      <th></th>\n",
       "      <th>uniq_users</th>\n",
       "    </tr>\n",
       "    <tr>\n",
       "      <th>hash</th>\n",
       "      <th></th>\n",
       "    </tr>\n",
       "  </thead>\n",
       "  <tbody>\n",
       "    <tr>\n",
       "      <th>-2964838977105228756</th>\n",
       "      <td>50</td>\n",
       "    </tr>\n",
       "    <tr>\n",
       "      <th>8100076757054270788</th>\n",
       "      <td>50</td>\n",
       "    </tr>\n",
       "    <tr>\n",
       "      <th>-4993197743230146561</th>\n",
       "      <td>48</td>\n",
       "    </tr>\n",
       "    <tr>\n",
       "      <th>5748713145738005256</th>\n",
       "      <td>47</td>\n",
       "    </tr>\n",
       "    <tr>\n",
       "      <th>7719283613370225873</th>\n",
       "      <td>19</td>\n",
       "    </tr>\n",
       "  </tbody>\n",
       "</table>\n",
       "</div>"
      ],
      "text/plain": [
       "                      uniq_users\n",
       "hash                            \n",
       "-2964838977105228756          50\n",
       " 8100076757054270788          50\n",
       "-4993197743230146561          48\n",
       " 5748713145738005256          47\n",
       " 7719283613370225873          19"
      ]
     },
     "execution_count": 47,
     "metadata": {},
     "output_type": "execute_result"
    }
   ],
   "source": [
    "mostDiverseTweets = extracted[['userID', 'hash', 'text']].groupby('hash')\\\n",
    "    .agg({'userID': pd.Series.nunique})\\\n",
    "    .sort_values(by='userID', ascending=False)\n",
    "mostDiverseTweets.columns = ['uniq_users']\n",
    "   \n",
    "print ('Tweets with multiple (unique) users.\\n{} statuses with duplicate users'.format(mostDiverseTweets.size))\n",
    "mostDiverseTweets.head()"
   ]
  },
  {
   "cell_type": "code",
   "execution_count": 57,
   "metadata": {
    "collapsed": false
   },
   "outputs": [
    {
     "data": {
      "text/plain": [
       "3532804813            17062\n",
       "3920277023             8337\n",
       "724050768106500096     7697\n",
       "15195038               4962\n",
       "490179072              3330\n",
       "Name: userID, dtype: int64"
      ]
     },
     "execution_count": 57,
     "metadata": {},
     "output_type": "execute_result"
    }
   ],
   "source": [
    "# users\n",
    "mostProlificUsers = extracted['userID'].value_counts()\n",
    "mostProlificUsers.head()"
   ]
  },
  {
   "cell_type": "code",
   "execution_count": 54,
   "metadata": {
    "collapsed": false
   },
   "outputs": [
    {
     "ename": "KeyError",
     "evalue": "u'retweet'",
     "output_type": "error",
     "traceback": [
      "\u001b[0;31m---------------------------------------------------------------------------\u001b[0m",
      "\u001b[0;31mKeyError\u001b[0m                                  Traceback (most recent call last)",
      "\u001b[0;32m<ipython-input-54-a717925682e5>\u001b[0m in \u001b[0;36m<module>\u001b[0;34m()\u001b[0m\n\u001b[0;32m----> 1\u001b[0;31m \u001b[0mtweets\u001b[0m \u001b[0;34m=\u001b[0m \u001b[0mextracted\u001b[0m\u001b[0;34m[\u001b[0m\u001b[0mextracted\u001b[0m\u001b[0;34m[\u001b[0m\u001b[0;34m'retweet'\u001b[0m\u001b[0;34m]\u001b[0m \u001b[0;34m==\u001b[0m \u001b[0;36m0\u001b[0m\u001b[0;34m]\u001b[0m\u001b[0;34m\u001b[0m\u001b[0m\n\u001b[0m\u001b[1;32m      2\u001b[0m \u001b[0mretweets\u001b[0m \u001b[0;34m=\u001b[0m \u001b[0mextracted\u001b[0m\u001b[0;34m[\u001b[0m\u001b[0mextracted\u001b[0m\u001b[0;34m[\u001b[0m\u001b[0;34m'retweet'\u001b[0m\u001b[0;34m]\u001b[0m \u001b[0;34m==\u001b[0m \u001b[0;36m1\u001b[0m\u001b[0;34m]\u001b[0m\u001b[0;34m\u001b[0m\u001b[0m\n",
      "\u001b[0;32m/home/user/.anaconda3/envs/py27/lib/python2.7/site-packages/pandas/core/frame.pyc\u001b[0m in \u001b[0;36m__getitem__\u001b[0;34m(self, key)\u001b[0m\n\u001b[1;32m   2057\u001b[0m             \u001b[0;32mreturn\u001b[0m \u001b[0mself\u001b[0m\u001b[0;34m.\u001b[0m\u001b[0m_getitem_multilevel\u001b[0m\u001b[0;34m(\u001b[0m\u001b[0mkey\u001b[0m\u001b[0;34m)\u001b[0m\u001b[0;34m\u001b[0m\u001b[0m\n\u001b[1;32m   2058\u001b[0m         \u001b[0;32melse\u001b[0m\u001b[0;34m:\u001b[0m\u001b[0;34m\u001b[0m\u001b[0m\n\u001b[0;32m-> 2059\u001b[0;31m             \u001b[0;32mreturn\u001b[0m \u001b[0mself\u001b[0m\u001b[0;34m.\u001b[0m\u001b[0m_getitem_column\u001b[0m\u001b[0;34m(\u001b[0m\u001b[0mkey\u001b[0m\u001b[0;34m)\u001b[0m\u001b[0;34m\u001b[0m\u001b[0m\n\u001b[0m\u001b[1;32m   2060\u001b[0m \u001b[0;34m\u001b[0m\u001b[0m\n\u001b[1;32m   2061\u001b[0m     \u001b[0;32mdef\u001b[0m \u001b[0m_getitem_column\u001b[0m\u001b[0;34m(\u001b[0m\u001b[0mself\u001b[0m\u001b[0;34m,\u001b[0m \u001b[0mkey\u001b[0m\u001b[0;34m)\u001b[0m\u001b[0;34m:\u001b[0m\u001b[0;34m\u001b[0m\u001b[0m\n",
      "\u001b[0;32m/home/user/.anaconda3/envs/py27/lib/python2.7/site-packages/pandas/core/frame.pyc\u001b[0m in \u001b[0;36m_getitem_column\u001b[0;34m(self, key)\u001b[0m\n\u001b[1;32m   2064\u001b[0m         \u001b[0;31m# get column\u001b[0m\u001b[0;34m\u001b[0m\u001b[0;34m\u001b[0m\u001b[0m\n\u001b[1;32m   2065\u001b[0m         \u001b[0;32mif\u001b[0m \u001b[0mself\u001b[0m\u001b[0;34m.\u001b[0m\u001b[0mcolumns\u001b[0m\u001b[0;34m.\u001b[0m\u001b[0mis_unique\u001b[0m\u001b[0;34m:\u001b[0m\u001b[0;34m\u001b[0m\u001b[0m\n\u001b[0;32m-> 2066\u001b[0;31m             \u001b[0;32mreturn\u001b[0m \u001b[0mself\u001b[0m\u001b[0;34m.\u001b[0m\u001b[0m_get_item_cache\u001b[0m\u001b[0;34m(\u001b[0m\u001b[0mkey\u001b[0m\u001b[0;34m)\u001b[0m\u001b[0;34m\u001b[0m\u001b[0m\n\u001b[0m\u001b[1;32m   2067\u001b[0m \u001b[0;34m\u001b[0m\u001b[0m\n\u001b[1;32m   2068\u001b[0m         \u001b[0;31m# duplicate columns & possible reduce dimensionality\u001b[0m\u001b[0;34m\u001b[0m\u001b[0;34m\u001b[0m\u001b[0m\n",
      "\u001b[0;32m/home/user/.anaconda3/envs/py27/lib/python2.7/site-packages/pandas/core/generic.pyc\u001b[0m in \u001b[0;36m_get_item_cache\u001b[0;34m(self, item)\u001b[0m\n\u001b[1;32m   1384\u001b[0m         \u001b[0mres\u001b[0m \u001b[0;34m=\u001b[0m \u001b[0mcache\u001b[0m\u001b[0;34m.\u001b[0m\u001b[0mget\u001b[0m\u001b[0;34m(\u001b[0m\u001b[0mitem\u001b[0m\u001b[0;34m)\u001b[0m\u001b[0;34m\u001b[0m\u001b[0m\n\u001b[1;32m   1385\u001b[0m         \u001b[0;32mif\u001b[0m \u001b[0mres\u001b[0m \u001b[0;32mis\u001b[0m \u001b[0mNone\u001b[0m\u001b[0;34m:\u001b[0m\u001b[0;34m\u001b[0m\u001b[0m\n\u001b[0;32m-> 1386\u001b[0;31m             \u001b[0mvalues\u001b[0m \u001b[0;34m=\u001b[0m \u001b[0mself\u001b[0m\u001b[0;34m.\u001b[0m\u001b[0m_data\u001b[0m\u001b[0;34m.\u001b[0m\u001b[0mget\u001b[0m\u001b[0;34m(\u001b[0m\u001b[0mitem\u001b[0m\u001b[0;34m)\u001b[0m\u001b[0;34m\u001b[0m\u001b[0m\n\u001b[0m\u001b[1;32m   1387\u001b[0m             \u001b[0mres\u001b[0m \u001b[0;34m=\u001b[0m \u001b[0mself\u001b[0m\u001b[0;34m.\u001b[0m\u001b[0m_box_item_values\u001b[0m\u001b[0;34m(\u001b[0m\u001b[0mitem\u001b[0m\u001b[0;34m,\u001b[0m \u001b[0mvalues\u001b[0m\u001b[0;34m)\u001b[0m\u001b[0;34m\u001b[0m\u001b[0m\n\u001b[1;32m   1388\u001b[0m             \u001b[0mcache\u001b[0m\u001b[0;34m[\u001b[0m\u001b[0mitem\u001b[0m\u001b[0;34m]\u001b[0m \u001b[0;34m=\u001b[0m \u001b[0mres\u001b[0m\u001b[0;34m\u001b[0m\u001b[0m\n",
      "\u001b[0;32m/home/user/.anaconda3/envs/py27/lib/python2.7/site-packages/pandas/core/internals.pyc\u001b[0m in \u001b[0;36mget\u001b[0;34m(self, item, fastpath)\u001b[0m\n\u001b[1;32m   3539\u001b[0m \u001b[0;34m\u001b[0m\u001b[0m\n\u001b[1;32m   3540\u001b[0m             \u001b[0;32mif\u001b[0m \u001b[0;32mnot\u001b[0m \u001b[0misnull\u001b[0m\u001b[0;34m(\u001b[0m\u001b[0mitem\u001b[0m\u001b[0;34m)\u001b[0m\u001b[0;34m:\u001b[0m\u001b[0;34m\u001b[0m\u001b[0m\n\u001b[0;32m-> 3541\u001b[0;31m                 \u001b[0mloc\u001b[0m \u001b[0;34m=\u001b[0m \u001b[0mself\u001b[0m\u001b[0;34m.\u001b[0m\u001b[0mitems\u001b[0m\u001b[0;34m.\u001b[0m\u001b[0mget_loc\u001b[0m\u001b[0;34m(\u001b[0m\u001b[0mitem\u001b[0m\u001b[0;34m)\u001b[0m\u001b[0;34m\u001b[0m\u001b[0m\n\u001b[0m\u001b[1;32m   3542\u001b[0m             \u001b[0;32melse\u001b[0m\u001b[0;34m:\u001b[0m\u001b[0;34m\u001b[0m\u001b[0m\n\u001b[1;32m   3543\u001b[0m                 \u001b[0mindexer\u001b[0m \u001b[0;34m=\u001b[0m \u001b[0mnp\u001b[0m\u001b[0;34m.\u001b[0m\u001b[0marange\u001b[0m\u001b[0;34m(\u001b[0m\u001b[0mlen\u001b[0m\u001b[0;34m(\u001b[0m\u001b[0mself\u001b[0m\u001b[0;34m.\u001b[0m\u001b[0mitems\u001b[0m\u001b[0;34m)\u001b[0m\u001b[0;34m)\u001b[0m\u001b[0;34m[\u001b[0m\u001b[0misnull\u001b[0m\u001b[0;34m(\u001b[0m\u001b[0mself\u001b[0m\u001b[0;34m.\u001b[0m\u001b[0mitems\u001b[0m\u001b[0;34m)\u001b[0m\u001b[0;34m]\u001b[0m\u001b[0;34m\u001b[0m\u001b[0m\n",
      "\u001b[0;32m/home/user/.anaconda3/envs/py27/lib/python2.7/site-packages/pandas/indexes/base.pyc\u001b[0m in \u001b[0;36mget_loc\u001b[0;34m(self, key, method, tolerance)\u001b[0m\n\u001b[1;32m   2134\u001b[0m                 \u001b[0;32mreturn\u001b[0m \u001b[0mself\u001b[0m\u001b[0;34m.\u001b[0m\u001b[0m_engine\u001b[0m\u001b[0;34m.\u001b[0m\u001b[0mget_loc\u001b[0m\u001b[0;34m(\u001b[0m\u001b[0mkey\u001b[0m\u001b[0;34m)\u001b[0m\u001b[0;34m\u001b[0m\u001b[0m\n\u001b[1;32m   2135\u001b[0m             \u001b[0;32mexcept\u001b[0m \u001b[0mKeyError\u001b[0m\u001b[0;34m:\u001b[0m\u001b[0;34m\u001b[0m\u001b[0m\n\u001b[0;32m-> 2136\u001b[0;31m                 \u001b[0;32mreturn\u001b[0m \u001b[0mself\u001b[0m\u001b[0;34m.\u001b[0m\u001b[0m_engine\u001b[0m\u001b[0;34m.\u001b[0m\u001b[0mget_loc\u001b[0m\u001b[0;34m(\u001b[0m\u001b[0mself\u001b[0m\u001b[0;34m.\u001b[0m\u001b[0m_maybe_cast_indexer\u001b[0m\u001b[0;34m(\u001b[0m\u001b[0mkey\u001b[0m\u001b[0;34m)\u001b[0m\u001b[0;34m)\u001b[0m\u001b[0;34m\u001b[0m\u001b[0m\n\u001b[0m\u001b[1;32m   2137\u001b[0m \u001b[0;34m\u001b[0m\u001b[0m\n\u001b[1;32m   2138\u001b[0m         \u001b[0mindexer\u001b[0m \u001b[0;34m=\u001b[0m \u001b[0mself\u001b[0m\u001b[0;34m.\u001b[0m\u001b[0mget_indexer\u001b[0m\u001b[0;34m(\u001b[0m\u001b[0;34m[\u001b[0m\u001b[0mkey\u001b[0m\u001b[0;34m]\u001b[0m\u001b[0;34m,\u001b[0m \u001b[0mmethod\u001b[0m\u001b[0;34m=\u001b[0m\u001b[0mmethod\u001b[0m\u001b[0;34m,\u001b[0m \u001b[0mtolerance\u001b[0m\u001b[0;34m=\u001b[0m\u001b[0mtolerance\u001b[0m\u001b[0;34m)\u001b[0m\u001b[0;34m\u001b[0m\u001b[0m\n",
      "\u001b[0;32mpandas/index.pyx\u001b[0m in \u001b[0;36mpandas.index.IndexEngine.get_loc (pandas/index.c:4443)\u001b[0;34m()\u001b[0m\n",
      "\u001b[0;32mpandas/index.pyx\u001b[0m in \u001b[0;36mpandas.index.IndexEngine.get_loc (pandas/index.c:4289)\u001b[0;34m()\u001b[0m\n",
      "\u001b[0;32mpandas/src/hashtable_class_helper.pxi\u001b[0m in \u001b[0;36mpandas.hashtable.PyObjectHashTable.get_item (pandas/hashtable.c:13733)\u001b[0;34m()\u001b[0m\n",
      "\u001b[0;32mpandas/src/hashtable_class_helper.pxi\u001b[0m in \u001b[0;36mpandas.hashtable.PyObjectHashTable.get_item (pandas/hashtable.c:13687)\u001b[0;34m()\u001b[0m\n",
      "\u001b[0;31mKeyError\u001b[0m: u'retweet'"
     ]
    }
   ],
   "source": [
    "tweets = extracted[extracted['retweet'] == 0]\n",
    "retweets = extracted[extracted['retweet'] == 1]"
   ]
  },
  {
   "cell_type": "code",
   "execution_count": null,
   "metadata": {
    "collapsed": false
   },
   "outputs": [],
   "source": [
    "totalObserved = extracted.size\n",
    "tweetsObserved = tweets.size\n",
    "retweetsObserved = retweets.size\n",
    "\n",
    "uniqueObserved = extracted['token_str'].unique().size\n",
    "dupedObserved = totalObserved - uniqueObserved\n",
    "print ('number of statuses observed: {}\\nnumber of *unique* statuses: {}\\n...meaning {} tweets/retweets were duplicates sent to people'\\\n",
    "       .format(tweetsObserved, uniqueObserved, dupedObserved))\n",
    "\n",
    "print ('# tweets: {}\\n# retweets: {}'.format(tweetsObserved, retweetsObserved))"
   ]
  },
  {
   "cell_type": "code",
   "execution_count": null,
   "metadata": {
    "collapsed": false
   },
   "outputs": [],
   "source": [
    "#popularTweets['token_str'] = .loc[]"
   ]
  },
  {
   "cell_type": "code",
   "execution_count": 61,
   "metadata": {
    "collapsed": false
   },
   "outputs": [
    {
     "data": {
      "text/plain": [
       "3532804813            17062\n",
       "3920277023             8337\n",
       "724050768106500096     7697\n",
       "15195038               4962\n",
       "490179072              3330\n",
       "Name: userID, dtype: int64"
      ]
     },
     "execution_count": 61,
     "metadata": {},
     "output_type": "execute_result"
    }
   ],
   "source": [
    "mostProlificUsers.head()"
   ]
  },
  {
   "cell_type": "code",
   "execution_count": null,
   "metadata": {
    "collapsed": true
   },
   "outputs": [],
   "source": [
    "extracted['token_str'].value_counts().head()"
   ]
  },
  {
   "cell_type": "code",
   "execution_count": null,
   "metadata": {
    "collapsed": true
   },
   "outputs": [],
   "source": [
    "# use the value counts to get the hash\n",
    "hashes['tokens'].head(20).unique()"
   ]
  },
  {
   "cell_type": "code",
   "execution_count": null,
   "metadata": {
    "collapsed": true
   },
   "outputs": [],
   "source": [
    "# alternatively merge in pandas"
   ]
  }
 ],
 "metadata": {
  "anaconda-cloud": {},
  "kernelspec": {
   "display_name": "Python [conda env:py27]",
   "language": "python",
   "name": "conda-env-py27-py"
  },
  "language_info": {
   "codemirror_mode": {
    "name": "ipython",
    "version": 2
   },
   "file_extension": ".py",
   "mimetype": "text/x-python",
   "name": "python",
   "nbconvert_exporter": "python",
   "pygments_lexer": "ipython2",
   "version": "2.7.12"
  }
 },
 "nbformat": 4,
 "nbformat_minor": 1
}
