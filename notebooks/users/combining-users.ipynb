{
 "cells": [
  {
   "cell_type": "code",
   "execution_count": 1,
   "metadata": {
    "collapsed": true
   },
   "outputs": [],
   "source": [
    "import pandas as pd\n",
    "import sys\n",
    "import os\n",
    "import csv"
   ]
  },
  {
   "cell_type": "code",
   "execution_count": 5,
   "metadata": {
    "collapsed": false
   },
   "outputs": [
    {
     "ename": "AttributeError",
     "evalue": "'file' object has no attribute 'writeheader'",
     "output_type": "error",
     "traceback": [
      "\u001b[0;31m---------------------------------------------------------------------------\u001b[0m",
      "\u001b[0;31mAttributeError\u001b[0m                            Traceback (most recent call last)",
      "\u001b[0;32m<ipython-input-5-746c68b03d67>\u001b[0m in \u001b[0;36m<module>\u001b[0;34m()\u001b[0m\n\u001b[1;32m      2\u001b[0m \u001b[1;33m\u001b[0m\u001b[0m\n\u001b[1;32m      3\u001b[0m \u001b[0mfClinton\u001b[0m \u001b[1;33m=\u001b[0m \u001b[0mopen\u001b[0m\u001b[1;33m(\u001b[0m\u001b[1;34m\"clinton-users.csv\"\u001b[0m\u001b[1;33m,\u001b[0m \u001b[1;34m'a'\u001b[0m\u001b[1;33m)\u001b[0m\u001b[1;33m\u001b[0m\u001b[0m\n\u001b[0;32m----> 4\u001b[0;31m \u001b[0mfClinton\u001b[0m\u001b[1;33m.\u001b[0m\u001b[0mwriteheader\u001b[0m\u001b[1;33m(\u001b[0m\u001b[1;34m\"userID, tweetsDay, tweetsAll, timestamp, following, followers, created, corrupted\\n\"\u001b[0m\u001b[1;33m)\u001b[0m\u001b[1;33m\u001b[0m\u001b[0m\n\u001b[0m\u001b[1;32m      5\u001b[0m \u001b[1;33m\u001b[0m\u001b[0m\n\u001b[1;32m      6\u001b[0m \u001b[1;31m# For every dir, for every (appropriate) file\u001b[0m\u001b[1;33m\u001b[0m\u001b[1;33m\u001b[0m\u001b[0m\n",
      "\u001b[0;31mAttributeError\u001b[0m: 'file' object has no attribute 'writeheader'"
     ]
    }
   ],
   "source": [
    "aggDirs = ['twitterData-agg{}/'.format(x) for x in range(1,9)]\n",
    "\n",
    "fClinton = open(\"clinton-users.csv\", 'a')\n",
    "fClinton.writeheader(\"userID, tweetsDay, tweetsAll, timestamp, following, followers, created, corrupted\\n\")\n",
    "\n",
    "# For every dir, for every (appropriate) file\n",
    "for dirName in aggDirs:\n",
    "    for fileName in os.listdir(dirName):\n",
    "        if fileName.startswith('hillaryclinton'):\n",
    "            #print (dirName + fileName)\n",
    "            f = open(dirName + fileName)\n",
    "            f.next()\n",
    "            f.next()\n",
    "            for line in f:\n",
    "                fClinton.write(line)\n",
    "fClinton.close()"
   ]
  },
  {
   "cell_type": "code",
   "execution_count": 3,
   "metadata": {
    "collapsed": false
   },
   "outputs": [],
   "source": [
    "fTrump = open(\"trump-users.csv\", 'a')\n",
    "fTrump.write(\"userID, tweetsDay, tweetsAll, timestamp, following, followers, created, corrupted\\n\")\n",
    "\n",
    "# For every dir, for every (appropriate) file\n",
    "for dirName in aggDirs:\n",
    "    for fileName in os.listdir(dirName):\n",
    "        if fileName.startswith('donaldtrump'):\n",
    "            #print (dirName + fileName)\n",
    "            f = open(dirName + fileName)\n",
    "            f.next()\n",
    "            f.next()\n",
    "            for line in f:\n",
    "                fTrump.write(line)\n",
    "fTrump.close()"
   ]
  },
  {
   "cell_type": "code",
   "execution_count": 7,
   "metadata": {
    "collapsed": false
   },
   "outputs": [],
   "source": [
    "dfTrump = pd.read_csv('trump-users.csv', names=['userID', 'tweetsDay', 'tweetsAll', 'timestamp', 'following', 'followers', 'created', 'corrupted'])\n",
    "dfClinton = pd.read_csv('clinton-users.csv', names=['userID', 'tweetsDay', 'tweetsAll', 'timestamp', 'following', 'followers', 'created', 'corrupted'])"
   ]
  },
  {
   "cell_type": "code",
   "execution_count": 9,
   "metadata": {
    "collapsed": true
   },
   "outputs": [],
   "source": [
    "dfTrump['candidate'] = 't'\n",
    "dfClinton['candidate'] = 'c'"
   ]
  },
  {
   "cell_type": "code",
   "execution_count": 10,
   "metadata": {
    "collapsed": false
   },
   "outputs": [],
   "source": [
    "dfCombined = pd.concat([dfTrump, dfClinton])"
   ]
  },
  {
   "cell_type": "code",
   "execution_count": 11,
   "metadata": {
    "collapsed": false
   },
   "outputs": [],
   "source": [
    "dfCombined.to_csv('combined-users.csv', index=False)"
   ]
  },
  {
   "cell_type": "code",
   "execution_count": null,
   "metadata": {
    "collapsed": true
   },
   "outputs": [],
   "source": []
  }
 ],
 "metadata": {
  "anaconda-cloud": {},
  "kernelspec": {
   "display_name": "Python [conda root]",
   "language": "python",
   "name": "conda-root-py"
  },
  "language_info": {
   "codemirror_mode": {
    "name": "ipython",
    "version": 3
   },
   "file_extension": ".py",
   "mimetype": "text/x-python",
   "name": "python",
   "nbconvert_exporter": "python",
   "pygments_lexer": "ipython3",
   "version": "3.5.2"
  }
 },
 "nbformat": 4,
 "nbformat_minor": 1
}
