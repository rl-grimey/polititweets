{
 "cells": [
  {
   "cell_type": "code",
   "execution_count": 2,
   "metadata": {
    "collapsed": true
   },
   "outputs": [],
   "source": [
    "import pandas as pd\n",
    "import numpy as np\n",
    "import json\n",
    "\n",
    "import matplotlib.pyplot as plt\n",
    "import matplotlib\n",
    "\n",
    "%matplotlib inline"
   ]
  },
  {
   "cell_type": "code",
   "execution_count": 3,
   "metadata": {
    "collapsed": true
   },
   "outputs": [],
   "source": [
    "dataDir = '../data/external/'\n",
    "\n",
    "trumpSample = dataDir + 'trump/donaldtrump_1449187200.txt'\n",
    "trumpFull = dataDir + 'trump/donaldtrump_1477699200.txt'"
   ]
  },
  {
   "cell_type": "code",
   "execution_count": 4,
   "metadata": {
    "collapsed": false
   },
   "outputs": [],
   "source": [
    "# Helper to read the ndljson's\n",
    "def readNDLJson(f):\n",
    "    with open(f) as data:\n",
    "        jsonList = [json.loads(line) for line in data]\n",
    "    return jsonList"
   ]
  },
  {
   "cell_type": "code",
   "execution_count": 4,
   "metadata": {
    "collapsed": false
   },
   "outputs": [],
   "source": [
    "# Function to extract only pertinent information about users\n",
    "def createUser(tweet):\n",
    "    try:\n",
    "        \n",
    "        # grab the portion of the json that's pertinent to the user\n",
    "        if (tweet['user']['id']):\n",
    "            user = tweet['user']\n",
    "\n",
    "            userID = user['id'] if user['id'] else 0\n",
    "            created = user['created_at']\n",
    "            defaultProfile = user['default_profile']\n",
    "\n",
    "            # Node features\n",
    "            favCount = user['favourites_count']\n",
    "            tweetCount = user['statuses_count']\n",
    "\n",
    "            # Social graph (edge) features\n",
    "            following = user['following']\n",
    "            friendsCount = user['friends_count']\n",
    "\n",
    "            return {'user':user, 'userID':userID, 'createdAt':created, 'numFaves':favCount, 'numTweets':tweetCount,\n",
    "                   'numFollowing':following, 'numFriends':friendsCount}\n",
    "        else:\n",
    "            pass\n",
    "    except:\n",
    "        pass"
   ]
  },
  {
   "cell_type": "code",
   "execution_count": 5,
   "metadata": {
    "collapsed": true
   },
   "outputs": [],
   "source": [
    "# dict of userID's and a tally of how many tweets there are from each key\n",
    "tweetTallies = {}\n",
    "\n",
    "# Function to check a dict\n",
    "def updateTallies(tweet):\n",
    "        # sanity check\n",
    "        if ((tweet['user']) and (tweet['user']['id'])):\n",
    "            userID = tweet['user']['id']\n",
    "            \n",
    "            # dictionairy check\n",
    "            if tweetTallies.has_key(userID):\n",
    "                tweetTallies[userID]['tweets'] = tweetTallies[userID]['tweets'] + 1\n",
    "            # not present, instantiate one\n",
    "            else:\n",
    "                tweetTallies[userID] = {'tweets': 1}         "
   ]
  },
  {
   "cell_type": "code",
   "execution_count": 6,
   "metadata": {
    "collapsed": false
   },
   "outputs": [],
   "source": [
    "for line in open(trumpFull):\n",
    "    try:\n",
    "        updateTallies(json.loads(line))\n",
    "    except:\n",
    "        pass"
   ]
  },
  {
   "cell_type": "code",
   "execution_count": 7,
   "metadata": {
    "collapsed": false
   },
   "outputs": [],
   "source": [
    "tallyDF = pd.DataFrame.from_dict(tweetTallies, orient='index')\n",
    "tallyDF.sort_values('tweets', inplace=True, ascending=False)"
   ]
  },
  {
   "cell_type": "code",
   "execution_count": null,
   "metadata": {
    "collapsed": false
   },
   "outputs": [],
   "source": [
    "def tryJson(js):\n",
    "    try:\n",
    "        return json.loads(js)\n",
    "    except:\n",
    "        pass\n",
    "\n",
    "tweetDF = pd.DataFrame.from_records([tryJson(line) for line in open(trumpFull)])"
   ]
  },
  {
   "cell_type": "code",
   "execution_count": 9,
   "metadata": {
    "collapsed": false
   },
   "outputs": [
    {
     "data": {
      "text/html": [
       "<div>\n",
       "<table border=\"1\" class=\"dataframe\">\n",
       "  <thead>\n",
       "    <tr style=\"text-align: right;\">\n",
       "      <th></th>\n",
       "      <th>tweets</th>\n",
       "    </tr>\n",
       "  </thead>\n",
       "  <tbody>\n",
       "    <tr>\n",
       "      <th>2823612297</th>\n",
       "      <td>295</td>\n",
       "    </tr>\n",
       "    <tr>\n",
       "      <th>742484898896740352</th>\n",
       "      <td>282</td>\n",
       "    </tr>\n",
       "    <tr>\n",
       "      <th>451339059</th>\n",
       "      <td>279</td>\n",
       "    </tr>\n",
       "    <tr>\n",
       "      <th>90522101</th>\n",
       "      <td>195</td>\n",
       "    </tr>\n",
       "    <tr>\n",
       "      <th>22347339</th>\n",
       "      <td>191</td>\n",
       "    </tr>\n",
       "    <tr>\n",
       "      <th>751736611260338176</th>\n",
       "      <td>184</td>\n",
       "    </tr>\n",
       "    <tr>\n",
       "      <th>102824312</th>\n",
       "      <td>182</td>\n",
       "    </tr>\n",
       "    <tr>\n",
       "      <th>786345545308573696</th>\n",
       "      <td>175</td>\n",
       "    </tr>\n",
       "    <tr>\n",
       "      <th>764636248476483585</th>\n",
       "      <td>174</td>\n",
       "    </tr>\n",
       "    <tr>\n",
       "      <th>724050768106500096</th>\n",
       "      <td>173</td>\n",
       "    </tr>\n",
       "  </tbody>\n",
       "</table>\n",
       "</div>"
      ],
      "text/plain": [
       "                    tweets\n",
       "2823612297             295\n",
       "742484898896740352     282\n",
       "451339059              279\n",
       "90522101               195\n",
       "22347339               191\n",
       "751736611260338176     184\n",
       "102824312              182\n",
       "786345545308573696     175\n",
       "764636248476483585     174\n",
       "724050768106500096     173"
      ]
     },
     "execution_count": 9,
     "metadata": {},
     "output_type": "execute_result"
    }
   ],
   "source": [
    "tallyDF.head(10)"
   ]
  },
  {
   "cell_type": "code",
   "execution_count": null,
   "metadata": {
    "collapsed": false
   },
   "outputs": [],
   "source": [
    "def getID(tweet):\n",
    "    try:\n",
    "        \n",
    "        # grab the portion of the json that's pertinent to the user\n",
    "        if (tweet['user']['id']):\n",
    "            return tweet['user']['id']\n",
    "        \n",
    "    except:\n",
    "        return np.nan\n",
    "\n",
    "tweetDF['uID'] = tweetDF.apply(lambda x: getID(x), axis = 1)"
   ]
  },
  {
   "cell_type": "code",
   "execution_count": null,
   "metadata": {
    "collapsed": false
   },
   "outputs": [],
   "source": [
    "tweetDF[tweetDF['uID'] == tallyDF.iloc[0].index]['text']"
   ]
  },
  {
   "cell_type": "code",
   "execution_count": 10,
   "metadata": {
    "collapsed": false
   },
   "outputs": [
    {
     "name": "stderr",
     "output_type": "stream",
     "text": [
      "/home/user/.local/lib/python2.7/site-packages/ipykernel/__main__.py:1: FutureWarning: \n",
      "The default value for 'return_type' will change to 'axes' in a future release.\n",
      " To use the future behavior now, set return_type='axes'.\n",
      " To keep the previous behavior and silence this warning, set return_type='dict'.\n",
      "  if __name__ == '__main__':\n"
     ]
    },
    {
     "data": {
      "text/plain": [
       "{'boxes': [<matplotlib.lines.Line2D at 0x7f079865b750>],\n",
       " 'caps': [<matplotlib.lines.Line2D at 0x7f079863f5d0>,\n",
       "  <matplotlib.lines.Line2D at 0x7f079863fc10>],\n",
       " 'fliers': [<matplotlib.lines.Line2D at 0x7f06da005350>],\n",
       " 'means': [],\n",
       " 'medians': [<matplotlib.lines.Line2D at 0x7f06da005690>],\n",
       " 'whiskers': [<matplotlib.lines.Line2D at 0x7f079865b8d0>,\n",
       "  <matplotlib.lines.Line2D at 0x7f079865bf50>]}"
      ]
     },
     "execution_count": 10,
     "metadata": {},
     "output_type": "execute_result"
    },
    {
     "data": {
      "image/png": "[encoded data removed]",
      "text/plain": [
       "<matplotlib.figure.Figure at 0x7f07d03ac190>"
      ]
     },
     "metadata": {},
     "output_type": "display_data"
    }
   ],
   "source": [
    "tallyDF.boxplot('tweets')"
   ]
  },
  {
   "cell_type": "code",
   "execution_count": 14,
   "metadata": {
    "collapsed": false
   },
   "outputs": [
    {
     "data": {
      "text/plain": [
       "<matplotlib.axes._subplots.AxesSubplot at 0x7f077361c490>"
      ]
     },
     "execution_count": 14,
     "metadata": {},
     "output_type": "execute_result"
    },
    {
     "data": {
      "image/png": "[encoded data removed]",
      "text/plain": [
       "<matplotlib.figure.Figure at 0x7f079aa9dad0>"
      ]
     },
     "metadata": {},
     "output_type": "display_data"
    }
   ],
   "source": [
    "tallyDF['tweets'].iloc[:1000].hist(bins=50, normed=True)"
   ]
  },
  {
   "cell_type": "code",
   "execution_count": 5,
   "metadata": {
    "collapsed": true
   },
   "outputs": [],
   "source": [
    "lines = 1000000"
   ]
  },
  {
   "cell_type": "code",
   "execution_count": 16,
   "metadata": {
    "collapsed": true
   },
   "outputs": [],
   "source": [
    "import sys\n",
    "\n",
    "def readChunksTest(chunkSize):\n",
    "    chunksCount = 0\n",
    "    with open(trumpFull) as f:\n",
    "        for chunk in f.readlines(chunkSize):\n",
    "            print (sys.getsizeof(chunk))\n",
    "            chunksCount += 1\n",
    "    return chunksCount"
   ]
  },
  {
   "cell_type": "code",
   "execution_count": 17,
   "metadata": {
    "collapsed": false
   },
   "outputs": [
    {
     "name": "stdout",
     "output_type": "stream",
     "text": [
      "5502\n",
      "4909\n",
      "4931\n",
      "7271\n",
      "2526\n",
      "5005\n",
      "6496\n",
      "9086\n",
      "2129\n",
      "7737\n",
      "7087\n",
      "13346\n",
      "5389\n",
      "4888\n",
      "4642\n",
      "12672\n",
      "8415\n",
      "6406\n",
      "5292\n",
      "10706\n",
      "6406\n",
      "2515\n",
      "10738\n",
      "4561\n",
      "6521\n",
      "12446\n",
      "5366\n",
      "5122\n",
      "10746\n",
      "4460\n",
      "10751\n",
      "2804\n",
      "6447\n",
      "12569\n",
      "2743\n",
      "14053\n",
      "4993\n",
      "7945\n",
      "4673\n",
      "4715\n",
      "4573\n",
      "2513\n",
      "6609\n",
      "5469\n",
      "8820\n",
      "6387\n",
      "4099\n",
      "2747\n",
      "5347\n",
      "4648\n",
      "6310\n",
      "6915\n",
      "4506\n",
      "6800\n",
      "6656\n",
      "6038\n",
      "6955\n",
      "6436\n",
      "11091\n",
      "2481\n",
      "2610\n",
      "2007\n",
      "2643\n",
      "8330\n",
      "5465\n",
      "6669\n",
      "4705\n",
      "7584\n",
      "2382\n",
      "10627\n",
      "7589\n",
      "3834\n",
      "2536\n",
      "7560\n",
      "3342\n",
      "2478\n",
      "11528\n",
      "7077\n",
      "5305\n",
      "4252\n",
      "7647\n",
      "10415\n",
      "5147\n",
      "2389\n",
      "2038\n",
      "5339\n",
      "7015\n",
      "5022\n",
      "17171\n",
      "12199\n",
      "5124\n",
      "2500\n",
      "4637\n",
      "4719\n",
      "4304\n",
      "4392\n",
      "2502\n",
      "4877\n",
      "13498\n",
      "10955\n",
      "3637\n",
      "14036\n",
      "2505\n",
      "6783\n",
      "2349\n",
      "9255\n",
      "10799\n",
      "4546\n",
      "4990\n",
      "2333\n",
      "5494\n",
      "5042\n",
      "4724\n",
      "5414\n",
      "4738\n",
      "6644\n",
      "2629\n",
      "6300\n",
      "6588\n",
      "5311\n",
      "6825\n",
      "3547\n",
      "10773\n",
      "14487\n",
      "10356\n",
      "12683\n",
      "10048\n",
      "7474\n",
      "4587\n",
      "6731\n",
      "5307\n",
      "2554\n",
      "10068\n",
      "4391\n",
      "4874\n",
      "8020\n",
      "6701\n",
      "4767\n",
      "13983\n",
      "2608\n",
      "6727\n",
      "10173\n",
      "7324\n",
      "2124\n",
      "2537\n",
      "5582\n",
      "4782\n",
      "5352\n",
      "4566\n",
      "2409\n",
      "7784\n",
      "5199\n",
      "4736\n",
      "7093\n",
      "2535\n",
      "5176\n",
      "4669\n",
      "2290\n",
      "5119\n",
      "2542\n",
      "4762\n",
      "10787\n",
      "5133\n",
      "4698\n",
      "4729\n",
      "6040\n"
     ]
    },
    {
     "data": {
      "text/plain": [
       "166"
      ]
     },
     "execution_count": 17,
     "metadata": {},
     "output_type": "execute_result"
    }
   ],
   "source": []
  },
  {
   "cell_type": "code",
   "execution_count": 10,
   "metadata": {
    "collapsed": true
   },
   "outputs": [],
   "source": [
    "%timeit?"
   ]
  },
  {
   "cell_type": "code",
   "execution_count": null,
   "metadata": {
    "collapsed": true
   },
   "outputs": [],
   "source": []
  }
 ],
 "metadata": {
  "kernelspec": {
   "display_name": "Python 2",
   "language": "python",
   "name": "python2"
  },
  "language_info": {
   "codemirror_mode": {
    "name": "ipython",
    "version": 2
   },
   "file_extension": ".py",
   "mimetype": "text/x-python",
   "name": "python",
   "nbconvert_exporter": "python",
   "pygments_lexer": "ipython2",
   "version": "2.7.12"
  }
 },
 "nbformat": 4,
 "nbformat_minor": 1
}
