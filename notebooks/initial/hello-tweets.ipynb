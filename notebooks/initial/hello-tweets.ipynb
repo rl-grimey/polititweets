{
 "cells": [
  {
   "cell_type": "code",
   "execution_count": 1,
   "metadata": {
    "collapsed": true
   },
   "outputs": [],
   "source": [
    "import pandas as pd\n",
    "import numpy as np\n",
    "import json\n",
    "\n",
    "import matplotlib.pyplot as plt\n",
    "import matplotlib\n",
    "\n",
    "matplotlib.style.use('ggplot')\n",
    "%matplotlib inline"
   ]
  },
  {
   "cell_type": "code",
   "execution_count": 2,
   "metadata": {
    "collapsed": true
   },
   "outputs": [],
   "source": [
    "dataDir = '../data/external/'\n",
    "trumpF = dataDir + 'donaldtrump_1449187200.txt'"
   ]
  },
  {
   "cell_type": "code",
   "execution_count": 3,
   "metadata": {
    "collapsed": false
   },
   "outputs": [],
   "source": [
    "# Helper to read the ndljson's\n",
    "def readNDLJson(f):\n",
    "    with open(f) as data:\n",
    "        jsonList = [json.loads(line) for line in data]\n",
    "    return jsonList"
   ]
  },
  {
   "cell_type": "code",
   "execution_count": 4,
   "metadata": {
    "collapsed": false
   },
   "outputs": [],
   "source": [
    "trumpTweets = readNDLJson(trumpF)"
   ]
  },
  {
   "cell_type": "code",
   "execution_count": 5,
   "metadata": {
    "collapsed": true
   },
   "outputs": [],
   "source": [
    "ttDF = pd.DataFrame.from_records(trumpTweets)"
   ]
  },
  {
   "cell_type": "code",
   "execution_count": 6,
   "metadata": {
    "collapsed": false
   },
   "outputs": [
    {
     "data": {
      "text/html": [
       "<div>\n",
       "<table border=\"1\" class=\"dataframe\">\n",
       "  <thead>\n",
       "    <tr style=\"text-align: right;\">\n",
       "      <th></th>\n",
       "      <th>contributors</th>\n",
       "      <th>coordinates</th>\n",
       "      <th>created_at</th>\n",
       "      <th>entities</th>\n",
       "      <th>extended_entities</th>\n",
       "      <th>favorite_count</th>\n",
       "      <th>favorited</th>\n",
       "      <th>filter_level</th>\n",
       "      <th>geo</th>\n",
       "      <th>id</th>\n",
       "      <th>...</th>\n",
       "      <th>quoted_status_id</th>\n",
       "      <th>quoted_status_id_str</th>\n",
       "      <th>retweet_count</th>\n",
       "      <th>retweeted</th>\n",
       "      <th>retweeted_status</th>\n",
       "      <th>source</th>\n",
       "      <th>text</th>\n",
       "      <th>timestamp_ms</th>\n",
       "      <th>truncated</th>\n",
       "      <th>user</th>\n",
       "    </tr>\n",
       "  </thead>\n",
       "  <tbody>\n",
       "    <tr>\n",
       "      <th>0</th>\n",
       "      <td>NaN</td>\n",
       "      <td>None</td>\n",
       "      <td>Fri Dec 04 00:00:02 +0000 2015</td>\n",
       "      <td>{u'user_mentions': [{u'id': 114870265, u'indic...</td>\n",
       "      <td>NaN</td>\n",
       "      <td>0.0</td>\n",
       "      <td>False</td>\n",
       "      <td>low</td>\n",
       "      <td>None</td>\n",
       "      <td>6.725660e+17</td>\n",
       "      <td>...</td>\n",
       "      <td>NaN</td>\n",
       "      <td>NaN</td>\n",
       "      <td>0.0</td>\n",
       "      <td>False</td>\n",
       "      <td>{u'contributors': None, u'truncated': False, u...</td>\n",
       "      <td>&lt;a href=\"http://twitter.com\" rel=\"nofollow\"&gt;Tw...</td>\n",
       "      <td>RT @PeterBeinart: Other candidates pander to r...</td>\n",
       "      <td>1449187202768</td>\n",
       "      <td>False</td>\n",
       "      <td>{u'follow_request_sent': None, u'profile_use_b...</td>\n",
       "    </tr>\n",
       "    <tr>\n",
       "      <th>1</th>\n",
       "      <td>NaN</td>\n",
       "      <td>None</td>\n",
       "      <td>Fri Dec 04 00:00:03 +0000 2015</td>\n",
       "      <td>{u'user_mentions': [{u'id': 2329066872, u'indi...</td>\n",
       "      <td>{u'media': [{u'source_user_id': 2329066872, u'...</td>\n",
       "      <td>0.0</td>\n",
       "      <td>False</td>\n",
       "      <td>low</td>\n",
       "      <td>None</td>\n",
       "      <td>6.725660e+17</td>\n",
       "      <td>...</td>\n",
       "      <td>NaN</td>\n",
       "      <td>NaN</td>\n",
       "      <td>0.0</td>\n",
       "      <td>False</td>\n",
       "      <td>{u'contributors': None, u'truncated': False, u...</td>\n",
       "      <td>&lt;a href=\"http://twitter.com/download/android\" ...</td>\n",
       "      <td>RT @the_intercept: How our reporter @JuanMThom...</td>\n",
       "      <td>1449187203284</td>\n",
       "      <td>False</td>\n",
       "      <td>{u'follow_request_sent': None, u'profile_use_b...</td>\n",
       "    </tr>\n",
       "    <tr>\n",
       "      <th>2</th>\n",
       "      <td>NaN</td>\n",
       "      <td>None</td>\n",
       "      <td>Fri Dec 04 00:00:03 +0000 2015</td>\n",
       "      <td>{u'user_mentions': [{u'id': 25073877, u'indice...</td>\n",
       "      <td>NaN</td>\n",
       "      <td>0.0</td>\n",
       "      <td>False</td>\n",
       "      <td>low</td>\n",
       "      <td>None</td>\n",
       "      <td>6.725660e+17</td>\n",
       "      <td>...</td>\n",
       "      <td>NaN</td>\n",
       "      <td>NaN</td>\n",
       "      <td>0.0</td>\n",
       "      <td>False</td>\n",
       "      <td>NaN</td>\n",
       "      <td>&lt;a href=\"http://bestio.co\" rel=\"nofollow\"&gt;best...</td>\n",
       "      <td>Best Donald Trump 2016 Campaign Quotes: Megyn,...</td>\n",
       "      <td>1449187203441</td>\n",
       "      <td>False</td>\n",
       "      <td>{u'follow_request_sent': None, u'profile_use_b...</td>\n",
       "    </tr>\n",
       "    <tr>\n",
       "      <th>3</th>\n",
       "      <td>NaN</td>\n",
       "      <td>None</td>\n",
       "      <td>Fri Dec 04 00:00:03 +0000 2015</td>\n",
       "      <td>{u'user_mentions': [], u'symbols': [], u'hasht...</td>\n",
       "      <td>NaN</td>\n",
       "      <td>0.0</td>\n",
       "      <td>False</td>\n",
       "      <td>low</td>\n",
       "      <td>None</td>\n",
       "      <td>6.725660e+17</td>\n",
       "      <td>...</td>\n",
       "      <td>NaN</td>\n",
       "      <td>NaN</td>\n",
       "      <td>0.0</td>\n",
       "      <td>False</td>\n",
       "      <td>NaN</td>\n",
       "      <td>&lt;a href=\"http://www.z246.com\" rel=\"nofollow\"&gt;z...</td>\n",
       "      <td>https://t.co/wC4bix7318  What a Secret Memo to...</td>\n",
       "      <td>1449187203759</td>\n",
       "      <td>False</td>\n",
       "      <td>{u'follow_request_sent': None, u'profile_use_b...</td>\n",
       "    </tr>\n",
       "    <tr>\n",
       "      <th>4</th>\n",
       "      <td>NaN</td>\n",
       "      <td>None</td>\n",
       "      <td>Fri Dec 04 00:00:04 +0000 2015</td>\n",
       "      <td>{u'user_mentions': [{u'id': 3332044263, u'indi...</td>\n",
       "      <td>{u'media': [{u'source_user_id': 3332044263, u'...</td>\n",
       "      <td>0.0</td>\n",
       "      <td>False</td>\n",
       "      <td>low</td>\n",
       "      <td>None</td>\n",
       "      <td>6.725660e+17</td>\n",
       "      <td>...</td>\n",
       "      <td>NaN</td>\n",
       "      <td>NaN</td>\n",
       "      <td>0.0</td>\n",
       "      <td>False</td>\n",
       "      <td>{u'contributors': None, u'truncated': False, u...</td>\n",
       "      <td>&lt;a href=\"http://twitter.com/download/iphone\" r...</td>\n",
       "      <td>RT @Johnatsrs1949: Watch Live: Donald Trump Ra...</td>\n",
       "      <td>1449187204319</td>\n",
       "      <td>False</td>\n",
       "      <td>{u'follow_request_sent': None, u'profile_use_b...</td>\n",
       "    </tr>\n",
       "  </tbody>\n",
       "</table>\n",
       "<p>5 rows × 32 columns</p>\n",
       "</div>"
      ],
      "text/plain": [
       "   contributors coordinates                      created_at  \\\n",
       "0           NaN        None  Fri Dec 04 00:00:02 +0000 2015   \n",
       "1           NaN        None  Fri Dec 04 00:00:03 +0000 2015   \n",
       "2           NaN        None  Fri Dec 04 00:00:03 +0000 2015   \n",
       "3           NaN        None  Fri Dec 04 00:00:03 +0000 2015   \n",
       "4           NaN        None  Fri Dec 04 00:00:04 +0000 2015   \n",
       "\n",
       "                                            entities  \\\n",
       "0  {u'user_mentions': [{u'id': 114870265, u'indic...   \n",
       "1  {u'user_mentions': [{u'id': 2329066872, u'indi...   \n",
       "2  {u'user_mentions': [{u'id': 25073877, u'indice...   \n",
       "3  {u'user_mentions': [], u'symbols': [], u'hasht...   \n",
       "4  {u'user_mentions': [{u'id': 3332044263, u'indi...   \n",
       "\n",
       "                                   extended_entities  favorite_count  \\\n",
       "0                                                NaN             0.0   \n",
       "1  {u'media': [{u'source_user_id': 2329066872, u'...             0.0   \n",
       "2                                                NaN             0.0   \n",
       "3                                                NaN             0.0   \n",
       "4  {u'media': [{u'source_user_id': 3332044263, u'...             0.0   \n",
       "\n",
       "  favorited filter_level   geo            id  \\\n",
       "0     False          low  None  6.725660e+17   \n",
       "1     False          low  None  6.725660e+17   \n",
       "2     False          low  None  6.725660e+17   \n",
       "3     False          low  None  6.725660e+17   \n",
       "4     False          low  None  6.725660e+17   \n",
       "\n",
       "                         ...                         quoted_status_id  \\\n",
       "0                        ...                                      NaN   \n",
       "1                        ...                                      NaN   \n",
       "2                        ...                                      NaN   \n",
       "3                        ...                                      NaN   \n",
       "4                        ...                                      NaN   \n",
       "\n",
       "  quoted_status_id_str  retweet_count retweeted  \\\n",
       "0                  NaN            0.0     False   \n",
       "1                  NaN            0.0     False   \n",
       "2                  NaN            0.0     False   \n",
       "3                  NaN            0.0     False   \n",
       "4                  NaN            0.0     False   \n",
       "\n",
       "                                    retweeted_status  \\\n",
       "0  {u'contributors': None, u'truncated': False, u...   \n",
       "1  {u'contributors': None, u'truncated': False, u...   \n",
       "2                                                NaN   \n",
       "3                                                NaN   \n",
       "4  {u'contributors': None, u'truncated': False, u...   \n",
       "\n",
       "                                              source  \\\n",
       "0  <a href=\"http://twitter.com\" rel=\"nofollow\">Tw...   \n",
       "1  <a href=\"http://twitter.com/download/android\" ...   \n",
       "2  <a href=\"http://bestio.co\" rel=\"nofollow\">best...   \n",
       "3  <a href=\"http://www.z246.com\" rel=\"nofollow\">z...   \n",
       "4  <a href=\"http://twitter.com/download/iphone\" r...   \n",
       "\n",
       "                                                text   timestamp_ms truncated  \\\n",
       "0  RT @PeterBeinart: Other candidates pander to r...  1449187202768     False   \n",
       "1  RT @the_intercept: How our reporter @JuanMThom...  1449187203284     False   \n",
       "2  Best Donald Trump 2016 Campaign Quotes: Megyn,...  1449187203441     False   \n",
       "3  https://t.co/wC4bix7318  What a Secret Memo to...  1449187203759     False   \n",
       "4  RT @Johnatsrs1949: Watch Live: Donald Trump Ra...  1449187204319     False   \n",
       "\n",
       "                                                user  \n",
       "0  {u'follow_request_sent': None, u'profile_use_b...  \n",
       "1  {u'follow_request_sent': None, u'profile_use_b...  \n",
       "2  {u'follow_request_sent': None, u'profile_use_b...  \n",
       "3  {u'follow_request_sent': None, u'profile_use_b...  \n",
       "4  {u'follow_request_sent': None, u'profile_use_b...  \n",
       "\n",
       "[5 rows x 32 columns]"
      ]
     },
     "execution_count": 6,
     "metadata": {},
     "output_type": "execute_result"
    }
   ],
   "source": [
    "ttDF.head()"
   ]
  },
  {
   "cell_type": "code",
   "execution_count": 7,
   "metadata": {
    "collapsed": false
   },
   "outputs": [
    {
     "data": {
      "text/plain": [
       "[u'contributors',\n",
       " u'coordinates',\n",
       " u'created_at',\n",
       " u'entities',\n",
       " u'extended_entities',\n",
       " u'favorite_count',\n",
       " u'favorited',\n",
       " u'filter_level',\n",
       " u'geo',\n",
       " u'id',\n",
       " u'id_str',\n",
       " u'in_reply_to_screen_name',\n",
       " u'in_reply_to_status_id',\n",
       " u'in_reply_to_status_id_str',\n",
       " u'in_reply_to_user_id',\n",
       " u'in_reply_to_user_id_str',\n",
       " u'is_quote_status',\n",
       " u'lang',\n",
       " u'limit',\n",
       " u'place',\n",
       " u'possibly_sensitive',\n",
       " u'quoted_status',\n",
       " u'quoted_status_id',\n",
       " u'quoted_status_id_str',\n",
       " u'retweet_count',\n",
       " u'retweeted',\n",
       " u'retweeted_status',\n",
       " u'source',\n",
       " u'text',\n",
       " u'timestamp_ms',\n",
       " u'truncated',\n",
       " u'user']"
      ]
     },
     "execution_count": 7,
     "metadata": {},
     "output_type": "execute_result"
    }
   ],
   "source": [
    "ttDF.columns.tolist()"
   ]
  },
  {
   "cell_type": "code",
   "execution_count": 10,
   "metadata": {
    "collapsed": false
   },
   "outputs": [
    {
     "data": {
      "text/plain": [
       "{u'contributors': None,\n",
       " u'coordinates': None,\n",
       " u'created_at': u'Fri Dec 04 00:00:32 +0000 2015',\n",
       " u'entities': {u'hashtags': [{u'indices': [57, 64], u'text': u'really'},\n",
       "   {u'indices': [65, 78], u'text': u'SanBernadino'},\n",
       "   {u'indices': [79, 93], u'text': u'Selfishgiving'}],\n",
       "  u'symbols': [],\n",
       "  u'urls': [],\n",
       "  u'user_mentions': []},\n",
       " u'favorite_count': 0,\n",
       " u'favorited': False,\n",
       " u'filter_level': u'low',\n",
       " u'geo': None,\n",
       " u'id': 672566117047529474,\n",
       " u'id_str': u'672566117047529474',\n",
       " u'in_reply_to_screen_name': None,\n",
       " u'in_reply_to_status_id': None,\n",
       " u'in_reply_to_status_id_str': None,\n",
       " u'in_reply_to_user_id': None,\n",
       " u'in_reply_to_user_id_str': None,\n",
       " u'is_quote_status': False,\n",
       " u'lang': u'en',\n",
       " u'place': None,\n",
       " u'retweet_count': 0,\n",
       " u'retweeted': False,\n",
       " u'source': u'<a href=\"http://twitter.com/download/iphone\" rel=\"nofollow\">Twitter for iPhone</a>',\n",
       " u'text': u'\"When disaster happens, my numbers go up.\" -Donald Trump #really #SanBernadino #Selfishgiving',\n",
       " u'timestamp_ms': u'1449187232635',\n",
       " u'truncated': False,\n",
       " u'user': {u'contributors_enabled': False,\n",
       "  u'created_at': u'Thu Apr 28 05:05:16 +0000 2011',\n",
       "  u'default_profile': True,\n",
       "  u'default_profile_image': False,\n",
       "  u'description': None,\n",
       "  u'favourites_count': 83,\n",
       "  u'follow_request_sent': None,\n",
       "  u'followers_count': 161,\n",
       "  u'following': None,\n",
       "  u'friends_count': 381,\n",
       "  u'geo_enabled': True,\n",
       "  u'id': 289181399,\n",
       "  u'id_str': u'289181399',\n",
       "  u'is_translator': False,\n",
       "  u'lang': u'en',\n",
       "  u'listed_count': 1,\n",
       "  u'location': None,\n",
       "  u'name': u'Emily Cline',\n",
       "  u'notifications': None,\n",
       "  u'profile_background_color': u'C0DEED',\n",
       "  u'profile_background_image_url': u'http://abs.twimg.com/images/themes/theme1/bg.png',\n",
       "  u'profile_background_image_url_https': u'https://abs.twimg.com/images/themes/theme1/bg.png',\n",
       "  u'profile_background_tile': False,\n",
       "  u'profile_banner_url': u'https://pbs.twimg.com/profile_banners/289181399/1446002190',\n",
       "  u'profile_image_url': u'http://pbs.twimg.com/profile_images/659207079899496448/cGZRr1Sv_normal.jpg',\n",
       "  u'profile_image_url_https': u'https://pbs.twimg.com/profile_images/659207079899496448/cGZRr1Sv_normal.jpg',\n",
       "  u'profile_link_color': u'0084B4',\n",
       "  u'profile_sidebar_border_color': u'C0DEED',\n",
       "  u'profile_sidebar_fill_color': u'DDEEF6',\n",
       "  u'profile_text_color': u'333333',\n",
       "  u'profile_use_background_image': True,\n",
       "  u'protected': False,\n",
       "  u'screen_name': u'M_Thugg_Life',\n",
       "  u'statuses_count': 600,\n",
       "  u'time_zone': u'Hawaii',\n",
       "  u'url': u'http://about.me/emily.cline',\n",
       "  u'utc_offset': -36000,\n",
       "  u'verified': False}}"
      ]
     },
     "execution_count": 10,
     "metadata": {},
     "output_type": "execute_result"
    }
   ],
   "source": [
    "trumpTweets[45]"
   ]
  },
  {
   "cell_type": "code",
   "execution_count": 11,
   "metadata": {
    "collapsed": false
   },
   "outputs": [
    {
     "data": {
      "text/plain": [
       "{u'contributors_enabled': False,\n",
       " u'created_at': u'Thu Apr 28 05:05:16 +0000 2011',\n",
       " u'default_profile': True,\n",
       " u'default_profile_image': False,\n",
       " u'description': None,\n",
       " u'favourites_count': 83,\n",
       " u'follow_request_sent': None,\n",
       " u'followers_count': 161,\n",
       " u'following': None,\n",
       " u'friends_count': 381,\n",
       " u'geo_enabled': True,\n",
       " u'id': 289181399,\n",
       " u'id_str': u'289181399',\n",
       " u'is_translator': False,\n",
       " u'lang': u'en',\n",
       " u'listed_count': 1,\n",
       " u'location': None,\n",
       " u'name': u'Emily Cline',\n",
       " u'notifications': None,\n",
       " u'profile_background_color': u'C0DEED',\n",
       " u'profile_background_image_url': u'http://abs.twimg.com/images/themes/theme1/bg.png',\n",
       " u'profile_background_image_url_https': u'https://abs.twimg.com/images/themes/theme1/bg.png',\n",
       " u'profile_background_tile': False,\n",
       " u'profile_banner_url': u'https://pbs.twimg.com/profile_banners/289181399/1446002190',\n",
       " u'profile_image_url': u'http://pbs.twimg.com/profile_images/659207079899496448/cGZRr1Sv_normal.jpg',\n",
       " u'profile_image_url_https': u'https://pbs.twimg.com/profile_images/659207079899496448/cGZRr1Sv_normal.jpg',\n",
       " u'profile_link_color': u'0084B4',\n",
       " u'profile_sidebar_border_color': u'C0DEED',\n",
       " u'profile_sidebar_fill_color': u'DDEEF6',\n",
       " u'profile_text_color': u'333333',\n",
       " u'profile_use_background_image': True,\n",
       " u'protected': False,\n",
       " u'screen_name': u'M_Thugg_Life',\n",
       " u'statuses_count': 600,\n",
       " u'time_zone': u'Hawaii',\n",
       " u'url': u'http://about.me/emily.cline',\n",
       " u'utc_offset': -36000,\n",
       " u'verified': False}"
      ]
     },
     "execution_count": 11,
     "metadata": {},
     "output_type": "execute_result"
    }
   ],
   "source": [
    "trumpTweets[45]['user']"
   ]
  },
  {
   "cell_type": "code",
   "execution_count": 12,
   "metadata": {
    "collapsed": true
   },
   "outputs": [],
   "source": [
    "# Function to extract only pertinent information about users\n",
    "def createUser(tweet):\n",
    "    \n",
    "    # grab the portion of the json that's pertinent to the user\n",
    "    user = tweet['user']\n",
    "    \n",
    "    userID = user['id'] if user['id'] else 0\n",
    "    created = user['created_at']\n",
    "    defaultProfile = user['default_profile']\n",
    "    \n",
    "    # Node features\n",
    "    favCount = user['favourites_count']\n",
    "    tweetCount = user['statuses_count']\n",
    "    \n",
    "    # Social graph (edge) features\n",
    "    following = user['following']\n",
    "    friendsCount = user['friends_count']\n",
    "    \n",
    "    return {'user':user, 'userID':userID, 'createdAt':created, 'numFaves':favCount, 'numTweets':tweetCount,\n",
    "           'numFollowing':following, 'numFriends':friendsCount}"
   ]
  },
  {
   "cell_type": "code",
   "execution_count": 32,
   "metadata": {
    "collapsed": false
   },
   "outputs": [],
   "source": [
    "# Some pandas black magic. \n",
    "# But actually we're dropping the those rows without users\n",
    "# and then converting the still json values to a list of dicts\n",
    "# before finally making a data frame from it\n",
    "\n",
    "users = pd.DataFrame.from_records(ttDF['user'].dropna().values.tolist())"
   ]
  },
  {
   "cell_type": "code",
   "execution_count": 38,
   "metadata": {
    "collapsed": false
   },
   "outputs": [
    {
     "data": {
      "text/plain": [
       "<matplotlib.axes._subplots.AxesSubplot at 0x7f5f595c6910>"
      ]
     },
     "execution_count": 38,
     "metadata": {},
     "output_type": "execute_result"
    },
    {
     "data": {
      "image/png": "[encoded data removed]",
      "text/plain": [
       "<matplotlib.figure.Figure at 0x7f5f59851bd0>"
      ]
     },
     "metadata": {},
     "output_type": "display_data"
    }
   ],
   "source": [
    "# CDF of \n",
    "ax = plt.axes()\n",
    "users['statuses_count'].hist(cumulative=True, normed=1, bins=100)"
   ]
  },
  {
   "cell_type": "code",
   "execution_count": 45,
   "metadata": {
    "collapsed": false
   },
   "outputs": [
    {
     "data": {
      "text/plain": [
       "(array([ 10725.,   6697.,   4281.,   3295.,   3033.,   2393.,   2284.,\n",
       "          2025.,   1899.,   1754.,   1702.,   1929.,   1832.,   1205.,\n",
       "          1121.,    938.,   1057.,    994.,   1088.,    858.,    718.,\n",
       "           727.,    713.,    692.,    549.,    628.,    569.,    576.,\n",
       "           563.,    527.,    492.,    480.,    429.,    444.,    610.,\n",
       "           442.,    486.,    365.,    409.,    358.,    309.,    292.,\n",
       "           323.,    332.,    324.,    321.,    310.,    293.,    264.,\n",
       "           256.,    234.,    243.,    297.,    250.,    285.,    304.,\n",
       "           209.,    205.,    227.,    216.,    186.,    215.,    197.,\n",
       "           908.,    150.,    190.,    167.,    144.,    151.,    147.,\n",
       "           173.,    142.,    157.,    151.,    131.,    124.,    136.,\n",
       "           129.,    147.,    128.,    182.,     95.,     95.,    156.,\n",
       "            68.,    125.,    111.,     89.,    105.,     78.,     98.,\n",
       "           120.,    109.,    133.,    142.,     90.,    139.,     76.,\n",
       "            93.,     75.]),\n",
       " array([      0.,    1000.,    2000.,    3000.,    4000.,    5000.,\n",
       "           6000.,    7000.,    8000.,    9000.,   10000.,   11000.,\n",
       "          12000.,   13000.,   14000.,   15000.,   16000.,   17000.,\n",
       "          18000.,   19000.,   20000.,   21000.,   22000.,   23000.,\n",
       "          24000.,   25000.,   26000.,   27000.,   28000.,   29000.,\n",
       "          30000.,   31000.,   32000.,   33000.,   34000.,   35000.,\n",
       "          36000.,   37000.,   38000.,   39000.,   40000.,   41000.,\n",
       "          42000.,   43000.,   44000.,   45000.,   46000.,   47000.,\n",
       "          48000.,   49000.,   50000.,   51000.,   52000.,   53000.,\n",
       "          54000.,   55000.,   56000.,   57000.,   58000.,   59000.,\n",
       "          60000.,   61000.,   62000.,   63000.,   64000.,   65000.,\n",
       "          66000.,   67000.,   68000.,   69000.,   70000.,   71000.,\n",
       "          72000.,   73000.,   74000.,   75000.,   76000.,   77000.,\n",
       "          78000.,   79000.,   80000.,   81000.,   82000.,   83000.,\n",
       "          84000.,   85000.,   86000.,   87000.,   88000.,   89000.,\n",
       "          90000.,   91000.,   92000.,   93000.,   94000.,   95000.,\n",
       "          96000.,   97000.,   98000.,   99000.,  100000.]),\n",
       " <a list of 100 Patch objects>)"
      ]
     },
     "execution_count": 45,
     "metadata": {},
     "output_type": "execute_result"
    },
    {
     "data": {
      "image/png": "[encoded data removed]",
      "text/plain": [
       "<matplotlib.figure.Figure at 0x7f5f4ea66ed0>"
      ]
     },
     "metadata": {},
     "output_type": "display_data"
    }
   ],
   "source": [
    "plt.hist(users['statuses_count'], range=(0, 100000), bins=100)"
   ]
  },
  {
   "cell_type": "code",
   "execution_count": 55,
   "metadata": {
    "collapsed": false
   },
   "outputs": [
    {
     "name": "stdout",
     "output_type": "stream",
     "text": [
      "Number of tweets: 2644768\n",
      "Number of users from tweets: 59175\n"
     ]
    }
   ],
   "source": [
    "print (\"Number of tweets: {}\".format(ttDF.size))\n",
    "print (\"Number of users from tweets: {}\".format(users['id'].unique().size))"
   ]
  },
  {
   "cell_type": "code",
   "execution_count": 83,
   "metadata": {
    "collapsed": false
   },
   "outputs": [
    {
     "data": {
      "text/html": [
       "<div>\n",
       "<table border=\"1\" class=\"dataframe\">\n",
       "  <thead>\n",
       "    <tr style=\"text-align: right;\">\n",
       "      <th></th>\n",
       "      <th>created_at</th>\n",
       "      <th>time_zone</th>\n",
       "      <th>description</th>\n",
       "      <th>friends_count</th>\n",
       "      <th>followers_count</th>\n",
       "      <th>following</th>\n",
       "      <th>statuses_count</th>\n",
       "      <th>screen_name</th>\n",
       "      <th>id</th>\n",
       "    </tr>\n",
       "  </thead>\n",
       "  <tbody>\n",
       "    <tr>\n",
       "      <th>0</th>\n",
       "      <td>Fri Oct 07 09:19:10 +0000 2011</td>\n",
       "      <td>Stockholm</td>\n",
       "      <td>Maniac.</td>\n",
       "      <td>1401</td>\n",
       "      <td>910</td>\n",
       "      <td>None</td>\n",
       "      <td>91620</td>\n",
       "      <td>MimiWinther</td>\n",
       "      <td>386444922</td>\n",
       "    </tr>\n",
       "    <tr>\n",
       "      <th>1</th>\n",
       "      <td>Tue May 29 00:16:07 +0000 2012</td>\n",
       "      <td>None</td>\n",
       "      <td>#Bears, #Bulls, #WhiteSox, #Mets fan. Occasion...</td>\n",
       "      <td>168</td>\n",
       "      <td>136</td>\n",
       "      <td>None</td>\n",
       "      <td>3839</td>\n",
       "      <td>TJ_Shouse</td>\n",
       "      <td>593188415</td>\n",
       "    </tr>\n",
       "    <tr>\n",
       "      <th>2</th>\n",
       "      <td>Thu Apr 30 10:33:45 +0000 2015</td>\n",
       "      <td>Belgrade</td>\n",
       "      <td>Bestio: product hunt for everyone (and everyth...</td>\n",
       "      <td>28</td>\n",
       "      <td>35</td>\n",
       "      <td>None</td>\n",
       "      <td>1422</td>\n",
       "      <td>BestioLikes</td>\n",
       "      <td>3224048079</td>\n",
       "    </tr>\n",
       "    <tr>\n",
       "      <th>3</th>\n",
       "      <td>Wed Nov 11 11:47:10 +0000 2009</td>\n",
       "      <td>None</td>\n",
       "      <td>http://www.Getwhatever.com : FIFA Corruption T...</td>\n",
       "      <td>1570</td>\n",
       "      <td>9</td>\n",
       "      <td>None</td>\n",
       "      <td>311</td>\n",
       "      <td>angelizalecustd</td>\n",
       "      <td>89166378</td>\n",
       "    </tr>\n",
       "    <tr>\n",
       "      <th>4</th>\n",
       "      <td>Wed Jul 11 01:09:57 +0000 2012</td>\n",
       "      <td>None</td>\n",
       "      <td>Air Force veteran  #father. #let's make Americ...</td>\n",
       "      <td>275</td>\n",
       "      <td>168</td>\n",
       "      <td>None</td>\n",
       "      <td>2362</td>\n",
       "      <td>NeilStoran</td>\n",
       "      <td>632538894</td>\n",
       "    </tr>\n",
       "  </tbody>\n",
       "</table>\n",
       "</div>"
      ],
      "text/plain": [
       "                       created_at  time_zone  \\\n",
       "0  Fri Oct 07 09:19:10 +0000 2011  Stockholm   \n",
       "1  Tue May 29 00:16:07 +0000 2012       None   \n",
       "2  Thu Apr 30 10:33:45 +0000 2015   Belgrade   \n",
       "3  Wed Nov 11 11:47:10 +0000 2009       None   \n",
       "4  Wed Jul 11 01:09:57 +0000 2012       None   \n",
       "\n",
       "                                         description  friends_count  \\\n",
       "0                                            Maniac.           1401   \n",
       "1  #Bears, #Bulls, #WhiteSox, #Mets fan. Occasion...            168   \n",
       "2  Bestio: product hunt for everyone (and everyth...             28   \n",
       "3  http://www.Getwhatever.com : FIFA Corruption T...           1570   \n",
       "4  Air Force veteran  #father. #let's make Americ...            275   \n",
       "\n",
       "   followers_count following  statuses_count      screen_name          id  \n",
       "0              910      None           91620      MimiWinther   386444922  \n",
       "1              136      None            3839        TJ_Shouse   593188415  \n",
       "2               35      None            1422      BestioLikes  3224048079  \n",
       "3                9      None             311  angelizalecustd    89166378  \n",
       "4              168      None            2362       NeilStoran   632538894  "
      ]
     },
     "execution_count": 83,
     "metadata": {},
     "output_type": "execute_result"
    }
   ],
   "source": [
    "users[['created_at', 'time_zone', 'description', 'friends_count', 'followers_count', \n",
    "       'following', 'statuses_count', 'screen_name', 'id']].head()"
   ]
  },
  {
   "cell_type": "code",
   "execution_count": null,
   "metadata": {
    "collapsed": true
   },
   "outputs": [],
   "source": []
  }
 ],
 "metadata": {
  "kernelspec": {
   "display_name": "Python 2",
   "language": "python",
   "name": "python2"
  },
  "language_info": {
   "codemirror_mode": {
    "name": "ipython",
    "version": 2
   },
   "file_extension": ".py",
   "mimetype": "text/x-python",
   "name": "python",
   "nbconvert_exporter": "python",
   "pygments_lexer": "ipython2",
   "version": "2.7.12"
  }
 },
 "nbformat": 4,
 "nbformat_minor": 1
}
